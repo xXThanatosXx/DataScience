{
  "nbformat": 4,
  "nbformat_minor": 0,
  "metadata": {
    "colab": {
      "provenance": []
    },
    "kernelspec": {
      "name": "python3",
      "display_name": "Python 3"
    },
    "language_info": {
      "name": "python"
    }
  },
  "cells": [
    {
      "cell_type": "code",
      "execution_count": null,
      "metadata": {
        "id": "Ctc7zeAClg6U"
      },
      "outputs": [],
      "source": [
        "df <- read.table(text = \" Temperatura Velocidad Tension  Defectuosos\n",
        "                              20        37.79   84.9        25.08\n",
        "                              26        28.37   109.8       24.13\n",
        "                              34        58.59   111.1       40.47\n",
        "                              14        16.05   102.2       12.75\n",
        "                              21        12.34   116.5       14.73\n",
        "                              21        53.32   115.4       32.30\n",
        "                              24        58.39   95.3        36.67\n",
        "                              21        31.45   114.1       19.07\n",
        "                              26        55.45   83.3        34.21\n",
        "                              15        55.01   111.9       25.87\n",
        "                              19        13.51   91.6        16.39\n",
        "                              21        25.87   110.7       17.55\n",
        "                              20        21.84   94.8        20.52\n",
        "                              21        19.89   99.2        17.23\n",
        "                              20        37.75   105.8       21.79\n",
        "                              15        13.43   99.4        11.51\n",
        "                              16        27.65   112.3       16.71\n",
        "                              17        48.99   99.1        26.63\n",
        "                              19        54.68   90.8        28.04\n",
        "                              25        18.33   101         15.54\n",
        "                              19        40.47   121.1       25.40\n",
        "                              13        44.05   98.8        19.87\n",
        "                              15        20.60   85.8        17.47\n",
        "                              18        12.35   96          14.75\n",
        "                              17        48.03   111.1       25.78\",\n",
        "                 header = TRUE)"
      ]
    },
    {
      "cell_type": "code",
      "source": [
        "#GUARDAR TABLA DE DATOS EN FORMATO CSV\n",
        "#Guardar Tabla en formato CSV\n",
        "write.table(df,\"regresion.csv\",sep = \";\",quote = F,row.names = F)\n",
        "\n",
        "#carga tabla CSV\n",
        "dato <- read.csv(\"regresion.csv\",sep = \";\")\n"
      ],
      "metadata": {
        "id": "Vs53-vL7liH4"
      },
      "execution_count": null,
      "outputs": []
    },
    {
      "cell_type": "code",
      "source": [
        "#Procesamiento de tabla\n",
        "attach(dato)\n",
        "names(dato)\n",
        "\n",
        "          #P_value = 0.05   p > 0 no hay significancia\n",
        "          #p_value < 0 si hay significancia.\n"
      ],
      "metadata": {
        "id": "c-hEvRXrlngl"
      },
      "execution_count": null,
      "outputs": []
    },
    {
      "cell_type": "code",
      "source": [
        "#Creación del modelo lineal\n",
        "Modelo <-  lm(Defectuosos~Temperatura+Velocidad+Tension)\n",
        "ANOVA <- aov(Modelo)\n",
        "summary(ANOVA)\n",
        "plot(ANOVA)"
      ],
      "metadata": {
        "id": "YIulLX-Ilpbe"
      },
      "execution_count": null,
      "outputs": []
    },
    {
      "cell_type": "markdown",
      "source": [
        "#Hipotesis Nula - hipotesis a refutar\n",
        "#H0 = si la varianza de los grupos de las variables (Temperatira, velocidad\n",
        "#y tensión, no son significantes, no aumentara el porcentaje de defectuosos\n",
        "\n",
        "#hipotesis alternativa = causa el fenomeno\n",
        "#H1 = La varianza de los grupos de las variables (Temperatira, velocidad\n",
        "#y tensión, son significantes disminuira el % de defectusos)"
      ],
      "metadata": {
        "id": "VPQRYaXYlt8T"
      }
    },
    {
      "cell_type": "code",
      "source": [
        "# Existen elementos significativos\n",
        "\n",
        "# Para verificar las variables significativas\n",
        "summary(Modelo)"
      ],
      "metadata": {
        "id": "mwADduSQlwdM"
      },
      "execution_count": null,
      "outputs": []
    },
    {
      "cell_type": "code",
      "source": [
        "## Retiramos la variable con el p-value mayor,\n",
        "#en este caso la ordenada al origen\n",
        "\n",
        "# Nuevo Modelo\n",
        "Modelo <- lm(Defectuosos~-1+Temperatura+Velocidad+Tension)\n",
        "ANOVA <- aov(Modelo)\n",
        "summary(ANOVA)"
      ],
      "metadata": {
        "id": "0DHh6_2ilzPn"
      },
      "execution_count": null,
      "outputs": []
    },
    {
      "cell_type": "code",
      "source": [
        "# Para verificar las variables significativas\n",
        "summary(Modelo)\n",
        "\n",
        "# la Tensión no es significativa por lo que se retira\n",
        "\n",
        "# Nuevo Modelo\n",
        "Modelo <- lm(Defectuosos~-1+Temperatura+Velocidad)\n",
        "ANOVA <- aov(Modelo)\n",
        "summary(ANOVA)"
      ],
      "metadata": {
        "id": "BwA4z6Bxl1p_"
      },
      "execution_count": null,
      "outputs": []
    },
    {
      "cell_type": "code",
      "source": [
        "# Para verificar las variables significativas\n",
        "summary(Modelo)\n",
        "\n",
        "#Las variables Temperatura y velocidad son significativas p_value < 0.05,\n",
        "#por tanto afectan el porcentaje de la varaible (defecto), y explican el 99.3 % de la variación\n",
        "#en el porcentaje de la variable (defectos).\n",
        "\n",
        "\n",
        "# La temperatura y la velocidad son las variables significativas"
      ],
      "metadata": {
        "id": "sVWSF6-ul5l6"
      },
      "execution_count": null,
      "outputs": []
    },
    {
      "cell_type": "code",
      "source": [
        "# Los coeficientes de la ecuación de regresión\n",
        "coef(Modelo)\n",
        "\n",
        "\n",
        "# Porcentaje-Defectuosos= 0.5016193*Temperatura + 0.3672592*Velocidad\n",
        "\n",
        "## Análisis de la adecuación del modelo\n",
        "# Normalidad de los residuos\n",
        "\n",
        "\n",
        "shapiro.test(rstandard(Modelo))"
      ],
      "metadata": {
        "id": "9RRUVSz-l8xn"
      },
      "execution_count": null,
      "outputs": []
    },
    {
      "cell_type": "markdown",
      "source": [
        "\n",
        "#P value p = 0.05; P_value > 0.05 no es significante\n",
        "# p_value  < 0.05 es significante"
      ],
      "metadata": {
        "id": "GU8bjZV0l-ch"
      }
    },
    {
      "cell_type": "code",
      "source": [
        "# hipotesis planteado\n",
        "# h1 nula = los residuos son normales con respecto a los datos análizados\n",
        "\n",
        "#h2 alternativa = los residuos no son normales.\n",
        "\n",
        "\n",
        "\n",
        "# No es significativo por lo que no se puede rechazar la hipótesis nula\n",
        "# Los residuos son normales\n",
        "\n",
        "qqnorm(rstandard(Modelo))\n",
        "qqline(rstandard(Modelo))\n",
        "plot(Modelo)"
      ],
      "metadata": {
        "id": "32Na3t0qmBmP"
      },
      "execution_count": null,
      "outputs": []
    },
    {
      "cell_type": "code",
      "source": [
        "#Como los p_values es de 0.68 indica  que no son\n",
        "# signigficantes por lo cual no se puede rechazar la hipotesis\n",
        "# nula, que indica que los residuos se comportan de una\n",
        "#forma normal, almenos una de las variables afectaría la varible porcenje\n",
        "#de Defectuosos.\n",
        "\n",
        "# Análisis de la homocedasticidad\n",
        "#install.packages(\"car\")\n",
        "#Esta prueba sirve para estudiar la\n",
        "#hipótesis nula de varianza constante\n",
        "#de los errores frente a la hipótesis\n",
        "#alternativa de que la varianza de\n",
        "#los errores cambia con el nivel de\n",
        "#la respuesta o con alguna combinación\n",
        "#lineal de los predictores.\n",
        "\n",
        "\n",
        "#P > 0 SIGNIFICANCIA\n",
        "#P < 0 NO HAY SIGNIFICANCIA\n",
        "library(car)\n",
        "ncvTest(model = Modelo)\n",
        "plot(Modelo)\n",
        "\n",
        "#P value no hay significancia\n",
        "\n",
        "\"La hipotesis nula: las varianzas,\n",
        "son significantes.\n",
        "\n",
        "La hipotesis alternativa: las varianzas no\n",
        "son significantes.\n",
        "\n",
        "POr  lo tanto no se puede rechazar la hipoteis nula\n",
        "y consideramos que las varianzas son iguales. POr\n",
        "tanto el modelo es correcto.\"\n"
      ],
      "metadata": {
        "id": "cCkXfEQnmF1A"
      },
      "execution_count": null,
      "outputs": []
    }
  ]
}