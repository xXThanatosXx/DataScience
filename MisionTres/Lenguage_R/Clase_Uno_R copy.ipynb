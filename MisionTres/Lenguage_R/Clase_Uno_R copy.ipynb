{
  "cells": [
    {
      "cell_type": "code",
      "execution_count": 1,
      "metadata": {
        "colab": {
          "base_uri": "https://localhost:8080/",
          "height": 73
        },
        "id": "9RDxsHJWlLzK",
        "outputId": "10f944e1-4d72-4874-b0b9-ffee584f8044"
      },
      "outputs": [
        {
          "ename": "SyntaxError",
          "evalue": "invalid syntax (Temp/ipykernel_21872/4144246326.py, line 1)",
          "output_type": "error",
          "traceback": [
            "\u001b[1;36m  File \u001b[1;32m\"C:\\Users\\Shadow\\AppData\\Local\\Temp/ipykernel_21872/4144246326.py\"\u001b[1;36m, line \u001b[1;32m1\u001b[0m\n\u001b[1;33m    as.int(\"joe\")\u001b[0m\n\u001b[1;37m    ^\u001b[0m\n\u001b[1;31mSyntaxError\u001b[0m\u001b[1;31m:\u001b[0m invalid syntax\n"
          ]
        }
      ],
      "source": [
        "as.int(\"joe\")"
      ]
    },
    {
      "cell_type": "code",
      "execution_count": 3,
      "metadata": {
        "colab": {
          "base_uri": "https://localhost:8080/",
          "height": 1000
        },
        "id": "EGQ03Az9mmTT",
        "outputId": "d0ecf759-98ad-4fd5-ce73-5ab816b36a57"
      },
      "outputs": [
        {
          "ename": "NameError",
          "evalue": "name 'require' is not defined",
          "output_type": "error",
          "traceback": [
            "\u001b[1;31m---------------------------------------------------------------------------\u001b[0m",
            "\u001b[1;31mNameError\u001b[0m                                 Traceback (most recent call last)",
            "\u001b[1;32m~\\AppData\\Local\\Temp/ipykernel_21872/474243397.py\u001b[0m in \u001b[0;36m<module>\u001b[1;34m\u001b[0m\n\u001b[1;32m----> 1\u001b[1;33m \u001b[0mrequire\u001b[0m\u001b[1;33m(\u001b[0m\u001b[0mgraphics\u001b[0m\u001b[1;33m)\u001b[0m\u001b[1;33m\u001b[0m\u001b[1;33m\u001b[0m\u001b[0m\n\u001b[0m\u001b[0;32m      2\u001b[0m \u001b[0mmtcars\u001b[0m\u001b[1;33m\u001b[0m\u001b[1;33m\u001b[0m\u001b[0m\n",
            "\u001b[1;31mNameError\u001b[0m: name 'require' is not defined"
          ]
        }
      ],
      "source": [
        "require(graphics)\n",
        "mtcars"
      ]
    },
    {
      "cell_type": "code",
      "execution_count": 4,
      "metadata": {
        "colab": {
          "base_uri": "https://localhost:8080/",
          "height": 34
        },
        "id": "20oeHJzTm9qy",
        "outputId": "16c2c69c-1e25-4a97-aa3a-8bbf5c593316"
      },
      "outputs": [
        {
          "data": {
            "text/html": [
              "6"
            ],
            "text/latex": [
              "6"
            ],
            "text/markdown": [
              "6"
            ],
            "text/plain": [
              "[1] 6"
            ]
          },
          "metadata": {},
          "output_type": "display_data"
        }
      ],
      "source": [
        "mtcars[1,2]"
      ]
    },
    {
      "cell_type": "code",
      "execution_count": 5,
      "metadata": {
        "colab": {
          "base_uri": "https://localhost:8080/",
          "height": 34
        },
        "id": "Mz_FTO8nnIJF",
        "outputId": "38233acd-46f1-4588-ab25-df803de490d0"
      },
      "outputs": [
        {
          "data": {
            "text/html": [
              "6"
            ],
            "text/latex": [
              "6"
            ],
            "text/markdown": [
              "6"
            ],
            "text/plain": [
              "[1] 6"
            ]
          },
          "metadata": {},
          "output_type": "display_data"
        }
      ],
      "source": [
        "mtcars[\"Mazda RX4\",\"cyl\"]"
      ]
    },
    {
      "cell_type": "code",
      "execution_count": 6,
      "metadata": {
        "colab": {
          "base_uri": "https://localhost:8080/",
          "height": 34
        },
        "id": "ySzNyK7FnVPc",
        "outputId": "3adb252f-1673-4522-e823-298df2d53596"
      },
      "outputs": [
        {
          "data": {
            "text/html": [
              "32"
            ],
            "text/latex": [
              "32"
            ],
            "text/markdown": [
              "32"
            ],
            "text/plain": [
              "[1] 32"
            ]
          },
          "metadata": {},
          "output_type": "display_data"
        }
      ],
      "source": [
        "nrow(mtcars)"
      ]
    },
    {
      "cell_type": "code",
      "execution_count": 7,
      "metadata": {
        "colab": {
          "base_uri": "https://localhost:8080/",
          "height": 34
        },
        "id": "U0293wqUndOS",
        "outputId": "c5ec73a8-c678-403a-ed75-a6f5b8332342"
      },
      "outputs": [
        {
          "data": {
            "text/html": [
              "11"
            ],
            "text/latex": [
              "11"
            ],
            "text/markdown": [
              "11"
            ],
            "text/plain": [
              "[1] 11"
            ]
          },
          "metadata": {},
          "output_type": "display_data"
        }
      ],
      "source": [
        "ncol(mtcars)"
      ]
    },
    {
      "cell_type": "code",
      "execution_count": 8,
      "metadata": {
        "colab": {
          "base_uri": "https://localhost:8080/",
          "height": 34
        },
        "id": "B8SF6tIWng4m",
        "outputId": "b3ce83df-b978-452b-c86e-139067d37857"
      },
      "outputs": [
        {
          "data": {
            "text/html": [
              "<style>\n",
              ".list-inline {list-style: none; margin:0; padding: 0}\n",
              ".list-inline>li {display: inline-block}\n",
              ".list-inline>li:not(:last-child)::after {content: \"\\00b7\"; padding: 0 .5ex}\n",
              "</style>\n",
              "<ol class=list-inline><li>1</li><li>1</li><li>1</li><li>0</li><li>0</li><li>0</li><li>0</li><li>0</li><li>0</li><li>0</li><li>0</li><li>0</li><li>0</li><li>0</li><li>0</li><li>0</li><li>0</li><li>1</li><li>1</li><li>1</li><li>0</li><li>0</li><li>0</li><li>0</li><li>0</li><li>1</li><li>1</li><li>1</li><li>1</li><li>1</li><li>1</li><li>1</li></ol>\n"
            ],
            "text/latex": [
              "\\begin{enumerate*}\n",
              "\\item 1\n",
              "\\item 1\n",
              "\\item 1\n",
              "\\item 0\n",
              "\\item 0\n",
              "\\item 0\n",
              "\\item 0\n",
              "\\item 0\n",
              "\\item 0\n",
              "\\item 0\n",
              "\\item 0\n",
              "\\item 0\n",
              "\\item 0\n",
              "\\item 0\n",
              "\\item 0\n",
              "\\item 0\n",
              "\\item 0\n",
              "\\item 1\n",
              "\\item 1\n",
              "\\item 1\n",
              "\\item 0\n",
              "\\item 0\n",
              "\\item 0\n",
              "\\item 0\n",
              "\\item 0\n",
              "\\item 1\n",
              "\\item 1\n",
              "\\item 1\n",
              "\\item 1\n",
              "\\item 1\n",
              "\\item 1\n",
              "\\item 1\n",
              "\\end{enumerate*}\n"
            ],
            "text/markdown": [
              "1. 1\n",
              "2. 1\n",
              "3. 1\n",
              "4. 0\n",
              "5. 0\n",
              "6. 0\n",
              "7. 0\n",
              "8. 0\n",
              "9. 0\n",
              "10. 0\n",
              "11. 0\n",
              "12. 0\n",
              "13. 0\n",
              "14. 0\n",
              "15. 0\n",
              "16. 0\n",
              "17. 0\n",
              "18. 1\n",
              "19. 1\n",
              "20. 1\n",
              "21. 0\n",
              "22. 0\n",
              "23. 0\n",
              "24. 0\n",
              "25. 0\n",
              "26. 1\n",
              "27. 1\n",
              "28. 1\n",
              "29. 1\n",
              "30. 1\n",
              "31. 1\n",
              "32. 1\n",
              "\n",
              "\n"
            ],
            "text/plain": [
              " [1] 1 1 1 0 0 0 0 0 0 0 0 0 0 0 0 0 0 1 1 1 0 0 0 0 0 1 1 1 1 1 1 1"
            ]
          },
          "metadata": {},
          "output_type": "display_data"
        }
      ],
      "source": [
        "mtcars[[9]]"
      ]
    },
    {
      "cell_type": "code",
      "execution_count": 9,
      "metadata": {
        "colab": {
          "base_uri": "https://localhost:8080/",
          "height": 34
        },
        "id": "wgmWaiBYnpuJ",
        "outputId": "02492bb0-d9c5-436f-a636-5381ca1f8312"
      },
      "outputs": [
        {
          "data": {
            "text/html": [
              "<style>\n",
              ".list-inline {list-style: none; margin:0; padding: 0}\n",
              ".list-inline>li {display: inline-block}\n",
              ".list-inline>li:not(:last-child)::after {content: \"\\00b7\"; padding: 0 .5ex}\n",
              "</style>\n",
              "<ol class=list-inline><li>1</li><li>1</li><li>1</li><li>0</li><li>0</li><li>0</li><li>0</li><li>0</li><li>0</li><li>0</li><li>0</li><li>0</li><li>0</li><li>0</li><li>0</li><li>0</li><li>0</li><li>1</li><li>1</li><li>1</li><li>0</li><li>0</li><li>0</li><li>0</li><li>0</li><li>1</li><li>1</li><li>1</li><li>1</li><li>1</li><li>1</li><li>1</li></ol>\n"
            ],
            "text/latex": [
              "\\begin{enumerate*}\n",
              "\\item 1\n",
              "\\item 1\n",
              "\\item 1\n",
              "\\item 0\n",
              "\\item 0\n",
              "\\item 0\n",
              "\\item 0\n",
              "\\item 0\n",
              "\\item 0\n",
              "\\item 0\n",
              "\\item 0\n",
              "\\item 0\n",
              "\\item 0\n",
              "\\item 0\n",
              "\\item 0\n",
              "\\item 0\n",
              "\\item 0\n",
              "\\item 1\n",
              "\\item 1\n",
              "\\item 1\n",
              "\\item 0\n",
              "\\item 0\n",
              "\\item 0\n",
              "\\item 0\n",
              "\\item 0\n",
              "\\item 1\n",
              "\\item 1\n",
              "\\item 1\n",
              "\\item 1\n",
              "\\item 1\n",
              "\\item 1\n",
              "\\item 1\n",
              "\\end{enumerate*}\n"
            ],
            "text/markdown": [
              "1. 1\n",
              "2. 1\n",
              "3. 1\n",
              "4. 0\n",
              "5. 0\n",
              "6. 0\n",
              "7. 0\n",
              "8. 0\n",
              "9. 0\n",
              "10. 0\n",
              "11. 0\n",
              "12. 0\n",
              "13. 0\n",
              "14. 0\n",
              "15. 0\n",
              "16. 0\n",
              "17. 0\n",
              "18. 1\n",
              "19. 1\n",
              "20. 1\n",
              "21. 0\n",
              "22. 0\n",
              "23. 0\n",
              "24. 0\n",
              "25. 0\n",
              "26. 1\n",
              "27. 1\n",
              "28. 1\n",
              "29. 1\n",
              "30. 1\n",
              "31. 1\n",
              "32. 1\n",
              "\n",
              "\n"
            ],
            "text/plain": [
              " [1] 1 1 1 0 0 0 0 0 0 0 0 0 0 0 0 0 0 1 1 1 0 0 0 0 0 1 1 1 1 1 1 1"
            ]
          },
          "metadata": {},
          "output_type": "display_data"
        }
      ],
      "source": [
        "mtcars[[\"am\"]]"
      ]
    },
    {
      "cell_type": "code",
      "execution_count": 10,
      "metadata": {
        "colab": {
          "base_uri": "https://localhost:8080/",
          "height": 34
        },
        "id": "b6N0F0HKns-j",
        "outputId": "930de534-9439-4700-8ff1-e27e920bd930"
      },
      "outputs": [
        {
          "data": {
            "text/html": [
              "<style>\n",
              ".list-inline {list-style: none; margin:0; padding: 0}\n",
              ".list-inline>li {display: inline-block}\n",
              ".list-inline>li:not(:last-child)::after {content: \"\\00b7\"; padding: 0 .5ex}\n",
              "</style>\n",
              "<ol class=list-inline><li>1</li><li>1</li><li>1</li><li>0</li><li>0</li><li>0</li><li>0</li><li>0</li><li>0</li><li>0</li><li>0</li><li>0</li><li>0</li><li>0</li><li>0</li><li>0</li><li>0</li><li>1</li><li>1</li><li>1</li><li>0</li><li>0</li><li>0</li><li>0</li><li>0</li><li>1</li><li>1</li><li>1</li><li>1</li><li>1</li><li>1</li><li>1</li></ol>\n"
            ],
            "text/latex": [
              "\\begin{enumerate*}\n",
              "\\item 1\n",
              "\\item 1\n",
              "\\item 1\n",
              "\\item 0\n",
              "\\item 0\n",
              "\\item 0\n",
              "\\item 0\n",
              "\\item 0\n",
              "\\item 0\n",
              "\\item 0\n",
              "\\item 0\n",
              "\\item 0\n",
              "\\item 0\n",
              "\\item 0\n",
              "\\item 0\n",
              "\\item 0\n",
              "\\item 0\n",
              "\\item 1\n",
              "\\item 1\n",
              "\\item 1\n",
              "\\item 0\n",
              "\\item 0\n",
              "\\item 0\n",
              "\\item 0\n",
              "\\item 0\n",
              "\\item 1\n",
              "\\item 1\n",
              "\\item 1\n",
              "\\item 1\n",
              "\\item 1\n",
              "\\item 1\n",
              "\\item 1\n",
              "\\end{enumerate*}\n"
            ],
            "text/markdown": [
              "1. 1\n",
              "2. 1\n",
              "3. 1\n",
              "4. 0\n",
              "5. 0\n",
              "6. 0\n",
              "7. 0\n",
              "8. 0\n",
              "9. 0\n",
              "10. 0\n",
              "11. 0\n",
              "12. 0\n",
              "13. 0\n",
              "14. 0\n",
              "15. 0\n",
              "16. 0\n",
              "17. 0\n",
              "18. 1\n",
              "19. 1\n",
              "20. 1\n",
              "21. 0\n",
              "22. 0\n",
              "23. 0\n",
              "24. 0\n",
              "25. 0\n",
              "26. 1\n",
              "27. 1\n",
              "28. 1\n",
              "29. 1\n",
              "30. 1\n",
              "31. 1\n",
              "32. 1\n",
              "\n",
              "\n"
            ],
            "text/plain": [
              " [1] 1 1 1 0 0 0 0 0 0 0 0 0 0 0 0 0 0 1 1 1 0 0 0 0 0 1 1 1 1 1 1 1"
            ]
          },
          "metadata": {},
          "output_type": "display_data"
        }
      ],
      "source": [
        "mtcars$am"
      ]
    },
    {
      "cell_type": "code",
      "execution_count": 12,
      "metadata": {
        "colab": {
          "base_uri": "https://localhost:8080/",
          "height": 34
        },
        "id": "eVOjx4cOnxy7",
        "outputId": "88b7abc8-2a31-4ffb-926d-209af64edd5e"
      },
      "outputs": [
        {
          "data": {
            "text/html": [
              "<style>\n",
              ".list-inline {list-style: none; margin:0; padding: 0}\n",
              ".list-inline>li {display: inline-block}\n",
              ".list-inline>li:not(:last-child)::after {content: \"\\00b7\"; padding: 0 .5ex}\n",
              "</style>\n",
              "<ol class=list-inline><li>1</li><li>1</li><li>1</li><li>0</li><li>0</li><li>0</li><li>0</li><li>0</li><li>0</li><li>0</li><li>0</li><li>0</li><li>0</li><li>0</li><li>0</li><li>0</li><li>0</li><li>1</li><li>1</li><li>1</li><li>0</li><li>0</li><li>0</li><li>0</li><li>0</li><li>1</li><li>1</li><li>1</li><li>1</li><li>1</li><li>1</li><li>1</li></ol>\n"
            ],
            "text/latex": [
              "\\begin{enumerate*}\n",
              "\\item 1\n",
              "\\item 1\n",
              "\\item 1\n",
              "\\item 0\n",
              "\\item 0\n",
              "\\item 0\n",
              "\\item 0\n",
              "\\item 0\n",
              "\\item 0\n",
              "\\item 0\n",
              "\\item 0\n",
              "\\item 0\n",
              "\\item 0\n",
              "\\item 0\n",
              "\\item 0\n",
              "\\item 0\n",
              "\\item 0\n",
              "\\item 1\n",
              "\\item 1\n",
              "\\item 1\n",
              "\\item 0\n",
              "\\item 0\n",
              "\\item 0\n",
              "\\item 0\n",
              "\\item 0\n",
              "\\item 1\n",
              "\\item 1\n",
              "\\item 1\n",
              "\\item 1\n",
              "\\item 1\n",
              "\\item 1\n",
              "\\item 1\n",
              "\\end{enumerate*}\n"
            ],
            "text/markdown": [
              "1. 1\n",
              "2. 1\n",
              "3. 1\n",
              "4. 0\n",
              "5. 0\n",
              "6. 0\n",
              "7. 0\n",
              "8. 0\n",
              "9. 0\n",
              "10. 0\n",
              "11. 0\n",
              "12. 0\n",
              "13. 0\n",
              "14. 0\n",
              "15. 0\n",
              "16. 0\n",
              "17. 0\n",
              "18. 1\n",
              "19. 1\n",
              "20. 1\n",
              "21. 0\n",
              "22. 0\n",
              "23. 0\n",
              "24. 0\n",
              "25. 0\n",
              "26. 1\n",
              "27. 1\n",
              "28. 1\n",
              "29. 1\n",
              "30. 1\n",
              "31. 1\n",
              "32. 1\n",
              "\n",
              "\n"
            ],
            "text/plain": [
              " [1] 1 1 1 0 0 0 0 0 0 0 0 0 0 0 0 0 0 1 1 1 0 0 0 0 0 1 1 1 1 1 1 1"
            ]
          },
          "metadata": {},
          "output_type": "display_data"
        }
      ],
      "source": [
        "mtcars[,\"am\"]"
      ]
    },
    {
      "cell_type": "markdown",
      "metadata": {
        "id": "rMFkBnWAn6w3"
      },
      "source": [
        "Indexacion numerica"
      ]
    },
    {
      "cell_type": "code",
      "execution_count": 41,
      "metadata": {
        "colab": {
          "base_uri": "https://localhost:8080/",
          "height": 1000
        },
        "id": "DagdlRlJn5FH",
        "outputId": "668063a9-9acf-4ed2-fa52-8efae0125429"
      },
      "outputs": [
        {
          "data": {
            "text/html": [
              "<table class=\"dataframe\">\n",
              "<caption>A data.frame: 32 × 1</caption>\n",
              "<thead>\n",
              "\t<tr><th></th><th scope=col>mpg</th></tr>\n",
              "\t<tr><th></th><th scope=col>&lt;dbl&gt;</th></tr>\n",
              "</thead>\n",
              "<tbody>\n",
              "\t<tr><th scope=row>Mazda RX4</th><td>21.0</td></tr>\n",
              "\t<tr><th scope=row>Mazda RX4 Wag</th><td>21.0</td></tr>\n",
              "\t<tr><th scope=row>Datsun 710</th><td>22.8</td></tr>\n",
              "\t<tr><th scope=row>Hornet 4 Drive</th><td>21.4</td></tr>\n",
              "\t<tr><th scope=row>Hornet Sportabout</th><td>18.7</td></tr>\n",
              "\t<tr><th scope=row>Valiant</th><td>18.1</td></tr>\n",
              "\t<tr><th scope=row>Duster 360</th><td>14.3</td></tr>\n",
              "\t<tr><th scope=row>Merc 240D</th><td>24.4</td></tr>\n",
              "\t<tr><th scope=row>Merc 230</th><td>22.8</td></tr>\n",
              "\t<tr><th scope=row>Merc 280</th><td>19.2</td></tr>\n",
              "\t<tr><th scope=row>Merc 280C</th><td>17.8</td></tr>\n",
              "\t<tr><th scope=row>Merc 450SE</th><td>16.4</td></tr>\n",
              "\t<tr><th scope=row>Merc 450SL</th><td>17.3</td></tr>\n",
              "\t<tr><th scope=row>Merc 450SLC</th><td>15.2</td></tr>\n",
              "\t<tr><th scope=row>Cadillac Fleetwood</th><td>10.4</td></tr>\n",
              "\t<tr><th scope=row>Lincoln Continental</th><td>10.4</td></tr>\n",
              "\t<tr><th scope=row>Chrysler Imperial</th><td>14.7</td></tr>\n",
              "\t<tr><th scope=row>Fiat 128</th><td>32.4</td></tr>\n",
              "\t<tr><th scope=row>Honda Civic</th><td>30.4</td></tr>\n",
              "\t<tr><th scope=row>Toyota Corolla</th><td>33.9</td></tr>\n",
              "\t<tr><th scope=row>Toyota Corona</th><td>21.5</td></tr>\n",
              "\t<tr><th scope=row>Dodge Challenger</th><td>15.5</td></tr>\n",
              "\t<tr><th scope=row>AMC Javelin</th><td>15.2</td></tr>\n",
              "\t<tr><th scope=row>Camaro Z28</th><td>13.3</td></tr>\n",
              "\t<tr><th scope=row>Pontiac Firebird</th><td>19.2</td></tr>\n",
              "\t<tr><th scope=row>Fiat X1-9</th><td>27.3</td></tr>\n",
              "\t<tr><th scope=row>Porsche 914-2</th><td>26.0</td></tr>\n",
              "\t<tr><th scope=row>Lotus Europa</th><td>30.4</td></tr>\n",
              "\t<tr><th scope=row>Ford Pantera L</th><td>15.8</td></tr>\n",
              "\t<tr><th scope=row>Ferrari Dino</th><td>19.7</td></tr>\n",
              "\t<tr><th scope=row>Maserati Bora</th><td>15.0</td></tr>\n",
              "\t<tr><th scope=row>Volvo 142E</th><td>21.4</td></tr>\n",
              "</tbody>\n",
              "</table>\n"
            ],
            "text/latex": [
              "A data.frame: 32 × 1\n",
              "\\begin{tabular}{r|l}\n",
              "  & mpg\\\\\n",
              "  & <dbl>\\\\\n",
              "\\hline\n",
              "\tMazda RX4 & 21.0\\\\\n",
              "\tMazda RX4 Wag & 21.0\\\\\n",
              "\tDatsun 710 & 22.8\\\\\n",
              "\tHornet 4 Drive & 21.4\\\\\n",
              "\tHornet Sportabout & 18.7\\\\\n",
              "\tValiant & 18.1\\\\\n",
              "\tDuster 360 & 14.3\\\\\n",
              "\tMerc 240D & 24.4\\\\\n",
              "\tMerc 230 & 22.8\\\\\n",
              "\tMerc 280 & 19.2\\\\\n",
              "\tMerc 280C & 17.8\\\\\n",
              "\tMerc 450SE & 16.4\\\\\n",
              "\tMerc 450SL & 17.3\\\\\n",
              "\tMerc 450SLC & 15.2\\\\\n",
              "\tCadillac Fleetwood & 10.4\\\\\n",
              "\tLincoln Continental & 10.4\\\\\n",
              "\tChrysler Imperial & 14.7\\\\\n",
              "\tFiat 128 & 32.4\\\\\n",
              "\tHonda Civic & 30.4\\\\\n",
              "\tToyota Corolla & 33.9\\\\\n",
              "\tToyota Corona & 21.5\\\\\n",
              "\tDodge Challenger & 15.5\\\\\n",
              "\tAMC Javelin & 15.2\\\\\n",
              "\tCamaro Z28 & 13.3\\\\\n",
              "\tPontiac Firebird & 19.2\\\\\n",
              "\tFiat X1-9 & 27.3\\\\\n",
              "\tPorsche 914-2 & 26.0\\\\\n",
              "\tLotus Europa & 30.4\\\\\n",
              "\tFord Pantera L & 15.8\\\\\n",
              "\tFerrari Dino & 19.7\\\\\n",
              "\tMaserati Bora & 15.0\\\\\n",
              "\tVolvo 142E & 21.4\\\\\n",
              "\\end{tabular}\n"
            ],
            "text/markdown": [
              "\n",
              "A data.frame: 32 × 1\n",
              "\n",
              "| <!--/--> | mpg &lt;dbl&gt; |\n",
              "|---|---|\n",
              "| Mazda RX4 | 21.0 |\n",
              "| Mazda RX4 Wag | 21.0 |\n",
              "| Datsun 710 | 22.8 |\n",
              "| Hornet 4 Drive | 21.4 |\n",
              "| Hornet Sportabout | 18.7 |\n",
              "| Valiant | 18.1 |\n",
              "| Duster 360 | 14.3 |\n",
              "| Merc 240D | 24.4 |\n",
              "| Merc 230 | 22.8 |\n",
              "| Merc 280 | 19.2 |\n",
              "| Merc 280C | 17.8 |\n",
              "| Merc 450SE | 16.4 |\n",
              "| Merc 450SL | 17.3 |\n",
              "| Merc 450SLC | 15.2 |\n",
              "| Cadillac Fleetwood | 10.4 |\n",
              "| Lincoln Continental | 10.4 |\n",
              "| Chrysler Imperial | 14.7 |\n",
              "| Fiat 128 | 32.4 |\n",
              "| Honda Civic | 30.4 |\n",
              "| Toyota Corolla | 33.9 |\n",
              "| Toyota Corona | 21.5 |\n",
              "| Dodge Challenger | 15.5 |\n",
              "| AMC Javelin | 15.2 |\n",
              "| Camaro Z28 | 13.3 |\n",
              "| Pontiac Firebird | 19.2 |\n",
              "| Fiat X1-9 | 27.3 |\n",
              "| Porsche 914-2 | 26.0 |\n",
              "| Lotus Europa | 30.4 |\n",
              "| Ford Pantera L | 15.8 |\n",
              "| Ferrari Dino | 19.7 |\n",
              "| Maserati Bora | 15.0 |\n",
              "| Volvo 142E | 21.4 |\n",
              "\n"
            ],
            "text/plain": [
              "                    mpg \n",
              "Mazda RX4           21.0\n",
              "Mazda RX4 Wag       21.0\n",
              "Datsun 710          22.8\n",
              "Hornet 4 Drive      21.4\n",
              "Hornet Sportabout   18.7\n",
              "Valiant             18.1\n",
              "Duster 360          14.3\n",
              "Merc 240D           24.4\n",
              "Merc 230            22.8\n",
              "Merc 280            19.2\n",
              "Merc 280C           17.8\n",
              "Merc 450SE          16.4\n",
              "Merc 450SL          17.3\n",
              "Merc 450SLC         15.2\n",
              "Cadillac Fleetwood  10.4\n",
              "Lincoln Continental 10.4\n",
              "Chrysler Imperial   14.7\n",
              "Fiat 128            32.4\n",
              "Honda Civic         30.4\n",
              "Toyota Corolla      33.9\n",
              "Toyota Corona       21.5\n",
              "Dodge Challenger    15.5\n",
              "AMC Javelin         15.2\n",
              "Camaro Z28          13.3\n",
              "Pontiac Firebird    19.2\n",
              "Fiat X1-9           27.3\n",
              "Porsche 914-2       26.0\n",
              "Lotus Europa        30.4\n",
              "Ford Pantera L      15.8\n",
              "Ferrari Dino        19.7\n",
              "Maserati Bora       15.0\n",
              "Volvo 142E          21.4"
            ]
          },
          "metadata": {},
          "output_type": "display_data"
        }
      ],
      "source": [
        "mtcars[1]"
      ]
    },
    {
      "cell_type": "code",
      "execution_count": 42,
      "metadata": {
        "colab": {
          "base_uri": "https://localhost:8080/",
          "height": 1000
        },
        "id": "T6TeHoB_oFs7",
        "outputId": "8648bac5-6d54-46e2-9717-7abef8b19d80"
      },
      "outputs": [
        {
          "data": {
            "text/html": [
              "<table class=\"dataframe\">\n",
              "<caption>A data.frame: 32 × 1</caption>\n",
              "<thead>\n",
              "\t<tr><th></th><th scope=col>mpg</th></tr>\n",
              "\t<tr><th></th><th scope=col>&lt;dbl&gt;</th></tr>\n",
              "</thead>\n",
              "<tbody>\n",
              "\t<tr><th scope=row>Mazda RX4</th><td>21.0</td></tr>\n",
              "\t<tr><th scope=row>Mazda RX4 Wag</th><td>21.0</td></tr>\n",
              "\t<tr><th scope=row>Datsun 710</th><td>22.8</td></tr>\n",
              "\t<tr><th scope=row>Hornet 4 Drive</th><td>21.4</td></tr>\n",
              "\t<tr><th scope=row>Hornet Sportabout</th><td>18.7</td></tr>\n",
              "\t<tr><th scope=row>Valiant</th><td>18.1</td></tr>\n",
              "\t<tr><th scope=row>Duster 360</th><td>14.3</td></tr>\n",
              "\t<tr><th scope=row>Merc 240D</th><td>24.4</td></tr>\n",
              "\t<tr><th scope=row>Merc 230</th><td>22.8</td></tr>\n",
              "\t<tr><th scope=row>Merc 280</th><td>19.2</td></tr>\n",
              "\t<tr><th scope=row>Merc 280C</th><td>17.8</td></tr>\n",
              "\t<tr><th scope=row>Merc 450SE</th><td>16.4</td></tr>\n",
              "\t<tr><th scope=row>Merc 450SL</th><td>17.3</td></tr>\n",
              "\t<tr><th scope=row>Merc 450SLC</th><td>15.2</td></tr>\n",
              "\t<tr><th scope=row>Cadillac Fleetwood</th><td>10.4</td></tr>\n",
              "\t<tr><th scope=row>Lincoln Continental</th><td>10.4</td></tr>\n",
              "\t<tr><th scope=row>Chrysler Imperial</th><td>14.7</td></tr>\n",
              "\t<tr><th scope=row>Fiat 128</th><td>32.4</td></tr>\n",
              "\t<tr><th scope=row>Honda Civic</th><td>30.4</td></tr>\n",
              "\t<tr><th scope=row>Toyota Corolla</th><td>33.9</td></tr>\n",
              "\t<tr><th scope=row>Toyota Corona</th><td>21.5</td></tr>\n",
              "\t<tr><th scope=row>Dodge Challenger</th><td>15.5</td></tr>\n",
              "\t<tr><th scope=row>AMC Javelin</th><td>15.2</td></tr>\n",
              "\t<tr><th scope=row>Camaro Z28</th><td>13.3</td></tr>\n",
              "\t<tr><th scope=row>Pontiac Firebird</th><td>19.2</td></tr>\n",
              "\t<tr><th scope=row>Fiat X1-9</th><td>27.3</td></tr>\n",
              "\t<tr><th scope=row>Porsche 914-2</th><td>26.0</td></tr>\n",
              "\t<tr><th scope=row>Lotus Europa</th><td>30.4</td></tr>\n",
              "\t<tr><th scope=row>Ford Pantera L</th><td>15.8</td></tr>\n",
              "\t<tr><th scope=row>Ferrari Dino</th><td>19.7</td></tr>\n",
              "\t<tr><th scope=row>Maserati Bora</th><td>15.0</td></tr>\n",
              "\t<tr><th scope=row>Volvo 142E</th><td>21.4</td></tr>\n",
              "</tbody>\n",
              "</table>\n"
            ],
            "text/latex": [
              "A data.frame: 32 × 1\n",
              "\\begin{tabular}{r|l}\n",
              "  & mpg\\\\\n",
              "  & <dbl>\\\\\n",
              "\\hline\n",
              "\tMazda RX4 & 21.0\\\\\n",
              "\tMazda RX4 Wag & 21.0\\\\\n",
              "\tDatsun 710 & 22.8\\\\\n",
              "\tHornet 4 Drive & 21.4\\\\\n",
              "\tHornet Sportabout & 18.7\\\\\n",
              "\tValiant & 18.1\\\\\n",
              "\tDuster 360 & 14.3\\\\\n",
              "\tMerc 240D & 24.4\\\\\n",
              "\tMerc 230 & 22.8\\\\\n",
              "\tMerc 280 & 19.2\\\\\n",
              "\tMerc 280C & 17.8\\\\\n",
              "\tMerc 450SE & 16.4\\\\\n",
              "\tMerc 450SL & 17.3\\\\\n",
              "\tMerc 450SLC & 15.2\\\\\n",
              "\tCadillac Fleetwood & 10.4\\\\\n",
              "\tLincoln Continental & 10.4\\\\\n",
              "\tChrysler Imperial & 14.7\\\\\n",
              "\tFiat 128 & 32.4\\\\\n",
              "\tHonda Civic & 30.4\\\\\n",
              "\tToyota Corolla & 33.9\\\\\n",
              "\tToyota Corona & 21.5\\\\\n",
              "\tDodge Challenger & 15.5\\\\\n",
              "\tAMC Javelin & 15.2\\\\\n",
              "\tCamaro Z28 & 13.3\\\\\n",
              "\tPontiac Firebird & 19.2\\\\\n",
              "\tFiat X1-9 & 27.3\\\\\n",
              "\tPorsche 914-2 & 26.0\\\\\n",
              "\tLotus Europa & 30.4\\\\\n",
              "\tFord Pantera L & 15.8\\\\\n",
              "\tFerrari Dino & 19.7\\\\\n",
              "\tMaserati Bora & 15.0\\\\\n",
              "\tVolvo 142E & 21.4\\\\\n",
              "\\end{tabular}\n"
            ],
            "text/markdown": [
              "\n",
              "A data.frame: 32 × 1\n",
              "\n",
              "| <!--/--> | mpg &lt;dbl&gt; |\n",
              "|---|---|\n",
              "| Mazda RX4 | 21.0 |\n",
              "| Mazda RX4 Wag | 21.0 |\n",
              "| Datsun 710 | 22.8 |\n",
              "| Hornet 4 Drive | 21.4 |\n",
              "| Hornet Sportabout | 18.7 |\n",
              "| Valiant | 18.1 |\n",
              "| Duster 360 | 14.3 |\n",
              "| Merc 240D | 24.4 |\n",
              "| Merc 230 | 22.8 |\n",
              "| Merc 280 | 19.2 |\n",
              "| Merc 280C | 17.8 |\n",
              "| Merc 450SE | 16.4 |\n",
              "| Merc 450SL | 17.3 |\n",
              "| Merc 450SLC | 15.2 |\n",
              "| Cadillac Fleetwood | 10.4 |\n",
              "| Lincoln Continental | 10.4 |\n",
              "| Chrysler Imperial | 14.7 |\n",
              "| Fiat 128 | 32.4 |\n",
              "| Honda Civic | 30.4 |\n",
              "| Toyota Corolla | 33.9 |\n",
              "| Toyota Corona | 21.5 |\n",
              "| Dodge Challenger | 15.5 |\n",
              "| AMC Javelin | 15.2 |\n",
              "| Camaro Z28 | 13.3 |\n",
              "| Pontiac Firebird | 19.2 |\n",
              "| Fiat X1-9 | 27.3 |\n",
              "| Porsche 914-2 | 26.0 |\n",
              "| Lotus Europa | 30.4 |\n",
              "| Ford Pantera L | 15.8 |\n",
              "| Ferrari Dino | 19.7 |\n",
              "| Maserati Bora | 15.0 |\n",
              "| Volvo 142E | 21.4 |\n",
              "\n"
            ],
            "text/plain": [
              "                    mpg \n",
              "Mazda RX4           21.0\n",
              "Mazda RX4 Wag       21.0\n",
              "Datsun 710          22.8\n",
              "Hornet 4 Drive      21.4\n",
              "Hornet Sportabout   18.7\n",
              "Valiant             18.1\n",
              "Duster 360          14.3\n",
              "Merc 240D           24.4\n",
              "Merc 230            22.8\n",
              "Merc 280            19.2\n",
              "Merc 280C           17.8\n",
              "Merc 450SE          16.4\n",
              "Merc 450SL          17.3\n",
              "Merc 450SLC         15.2\n",
              "Cadillac Fleetwood  10.4\n",
              "Lincoln Continental 10.4\n",
              "Chrysler Imperial   14.7\n",
              "Fiat 128            32.4\n",
              "Honda Civic         30.4\n",
              "Toyota Corolla      33.9\n",
              "Toyota Corona       21.5\n",
              "Dodge Challenger    15.5\n",
              "AMC Javelin         15.2\n",
              "Camaro Z28          13.3\n",
              "Pontiac Firebird    19.2\n",
              "Fiat X1-9           27.3\n",
              "Porsche 914-2       26.0\n",
              "Lotus Europa        30.4\n",
              "Ford Pantera L      15.8\n",
              "Ferrari Dino        19.7\n",
              "Maserati Bora       15.0\n",
              "Volvo 142E          21.4"
            ]
          },
          "metadata": {},
          "output_type": "display_data"
        }
      ],
      "source": [
        "mtcars[\"mpg\"]"
      ]
    },
    {
      "cell_type": "code",
      "execution_count": 43,
      "metadata": {
        "colab": {
          "base_uri": "https://localhost:8080/",
          "height": 1000
        },
        "id": "3X3lfP3foLIR",
        "outputId": "3e022b27-45f3-4991-8375-90a53b95b54c"
      },
      "outputs": [
        {
          "data": {
            "text/html": [
              "<table class=\"dataframe\">\n",
              "<caption>A data.frame: 32 × 2</caption>\n",
              "<thead>\n",
              "\t<tr><th></th><th scope=col>mpg</th><th scope=col>hp</th></tr>\n",
              "\t<tr><th></th><th scope=col>&lt;dbl&gt;</th><th scope=col>&lt;dbl&gt;</th></tr>\n",
              "</thead>\n",
              "<tbody>\n",
              "\t<tr><th scope=row>Mazda RX4</th><td>21.0</td><td>110</td></tr>\n",
              "\t<tr><th scope=row>Mazda RX4 Wag</th><td>21.0</td><td>110</td></tr>\n",
              "\t<tr><th scope=row>Datsun 710</th><td>22.8</td><td> 93</td></tr>\n",
              "\t<tr><th scope=row>Hornet 4 Drive</th><td>21.4</td><td>110</td></tr>\n",
              "\t<tr><th scope=row>Hornet Sportabout</th><td>18.7</td><td>175</td></tr>\n",
              "\t<tr><th scope=row>Valiant</th><td>18.1</td><td>105</td></tr>\n",
              "\t<tr><th scope=row>Duster 360</th><td>14.3</td><td>245</td></tr>\n",
              "\t<tr><th scope=row>Merc 240D</th><td>24.4</td><td> 62</td></tr>\n",
              "\t<tr><th scope=row>Merc 230</th><td>22.8</td><td> 95</td></tr>\n",
              "\t<tr><th scope=row>Merc 280</th><td>19.2</td><td>123</td></tr>\n",
              "\t<tr><th scope=row>Merc 280C</th><td>17.8</td><td>123</td></tr>\n",
              "\t<tr><th scope=row>Merc 450SE</th><td>16.4</td><td>180</td></tr>\n",
              "\t<tr><th scope=row>Merc 450SL</th><td>17.3</td><td>180</td></tr>\n",
              "\t<tr><th scope=row>Merc 450SLC</th><td>15.2</td><td>180</td></tr>\n",
              "\t<tr><th scope=row>Cadillac Fleetwood</th><td>10.4</td><td>205</td></tr>\n",
              "\t<tr><th scope=row>Lincoln Continental</th><td>10.4</td><td>215</td></tr>\n",
              "\t<tr><th scope=row>Chrysler Imperial</th><td>14.7</td><td>230</td></tr>\n",
              "\t<tr><th scope=row>Fiat 128</th><td>32.4</td><td> 66</td></tr>\n",
              "\t<tr><th scope=row>Honda Civic</th><td>30.4</td><td> 52</td></tr>\n",
              "\t<tr><th scope=row>Toyota Corolla</th><td>33.9</td><td> 65</td></tr>\n",
              "\t<tr><th scope=row>Toyota Corona</th><td>21.5</td><td> 97</td></tr>\n",
              "\t<tr><th scope=row>Dodge Challenger</th><td>15.5</td><td>150</td></tr>\n",
              "\t<tr><th scope=row>AMC Javelin</th><td>15.2</td><td>150</td></tr>\n",
              "\t<tr><th scope=row>Camaro Z28</th><td>13.3</td><td>245</td></tr>\n",
              "\t<tr><th scope=row>Pontiac Firebird</th><td>19.2</td><td>175</td></tr>\n",
              "\t<tr><th scope=row>Fiat X1-9</th><td>27.3</td><td> 66</td></tr>\n",
              "\t<tr><th scope=row>Porsche 914-2</th><td>26.0</td><td> 91</td></tr>\n",
              "\t<tr><th scope=row>Lotus Europa</th><td>30.4</td><td>113</td></tr>\n",
              "\t<tr><th scope=row>Ford Pantera L</th><td>15.8</td><td>264</td></tr>\n",
              "\t<tr><th scope=row>Ferrari Dino</th><td>19.7</td><td>175</td></tr>\n",
              "\t<tr><th scope=row>Maserati Bora</th><td>15.0</td><td>335</td></tr>\n",
              "\t<tr><th scope=row>Volvo 142E</th><td>21.4</td><td>109</td></tr>\n",
              "</tbody>\n",
              "</table>\n"
            ],
            "text/latex": [
              "A data.frame: 32 × 2\n",
              "\\begin{tabular}{r|ll}\n",
              "  & mpg & hp\\\\\n",
              "  & <dbl> & <dbl>\\\\\n",
              "\\hline\n",
              "\tMazda RX4 & 21.0 & 110\\\\\n",
              "\tMazda RX4 Wag & 21.0 & 110\\\\\n",
              "\tDatsun 710 & 22.8 &  93\\\\\n",
              "\tHornet 4 Drive & 21.4 & 110\\\\\n",
              "\tHornet Sportabout & 18.7 & 175\\\\\n",
              "\tValiant & 18.1 & 105\\\\\n",
              "\tDuster 360 & 14.3 & 245\\\\\n",
              "\tMerc 240D & 24.4 &  62\\\\\n",
              "\tMerc 230 & 22.8 &  95\\\\\n",
              "\tMerc 280 & 19.2 & 123\\\\\n",
              "\tMerc 280C & 17.8 & 123\\\\\n",
              "\tMerc 450SE & 16.4 & 180\\\\\n",
              "\tMerc 450SL & 17.3 & 180\\\\\n",
              "\tMerc 450SLC & 15.2 & 180\\\\\n",
              "\tCadillac Fleetwood & 10.4 & 205\\\\\n",
              "\tLincoln Continental & 10.4 & 215\\\\\n",
              "\tChrysler Imperial & 14.7 & 230\\\\\n",
              "\tFiat 128 & 32.4 &  66\\\\\n",
              "\tHonda Civic & 30.4 &  52\\\\\n",
              "\tToyota Corolla & 33.9 &  65\\\\\n",
              "\tToyota Corona & 21.5 &  97\\\\\n",
              "\tDodge Challenger & 15.5 & 150\\\\\n",
              "\tAMC Javelin & 15.2 & 150\\\\\n",
              "\tCamaro Z28 & 13.3 & 245\\\\\n",
              "\tPontiac Firebird & 19.2 & 175\\\\\n",
              "\tFiat X1-9 & 27.3 &  66\\\\\n",
              "\tPorsche 914-2 & 26.0 &  91\\\\\n",
              "\tLotus Europa & 30.4 & 113\\\\\n",
              "\tFord Pantera L & 15.8 & 264\\\\\n",
              "\tFerrari Dino & 19.7 & 175\\\\\n",
              "\tMaserati Bora & 15.0 & 335\\\\\n",
              "\tVolvo 142E & 21.4 & 109\\\\\n",
              "\\end{tabular}\n"
            ],
            "text/markdown": [
              "\n",
              "A data.frame: 32 × 2\n",
              "\n",
              "| <!--/--> | mpg &lt;dbl&gt; | hp &lt;dbl&gt; |\n",
              "|---|---|---|\n",
              "| Mazda RX4 | 21.0 | 110 |\n",
              "| Mazda RX4 Wag | 21.0 | 110 |\n",
              "| Datsun 710 | 22.8 |  93 |\n",
              "| Hornet 4 Drive | 21.4 | 110 |\n",
              "| Hornet Sportabout | 18.7 | 175 |\n",
              "| Valiant | 18.1 | 105 |\n",
              "| Duster 360 | 14.3 | 245 |\n",
              "| Merc 240D | 24.4 |  62 |\n",
              "| Merc 230 | 22.8 |  95 |\n",
              "| Merc 280 | 19.2 | 123 |\n",
              "| Merc 280C | 17.8 | 123 |\n",
              "| Merc 450SE | 16.4 | 180 |\n",
              "| Merc 450SL | 17.3 | 180 |\n",
              "| Merc 450SLC | 15.2 | 180 |\n",
              "| Cadillac Fleetwood | 10.4 | 205 |\n",
              "| Lincoln Continental | 10.4 | 215 |\n",
              "| Chrysler Imperial | 14.7 | 230 |\n",
              "| Fiat 128 | 32.4 |  66 |\n",
              "| Honda Civic | 30.4 |  52 |\n",
              "| Toyota Corolla | 33.9 |  65 |\n",
              "| Toyota Corona | 21.5 |  97 |\n",
              "| Dodge Challenger | 15.5 | 150 |\n",
              "| AMC Javelin | 15.2 | 150 |\n",
              "| Camaro Z28 | 13.3 | 245 |\n",
              "| Pontiac Firebird | 19.2 | 175 |\n",
              "| Fiat X1-9 | 27.3 |  66 |\n",
              "| Porsche 914-2 | 26.0 |  91 |\n",
              "| Lotus Europa | 30.4 | 113 |\n",
              "| Ford Pantera L | 15.8 | 264 |\n",
              "| Ferrari Dino | 19.7 | 175 |\n",
              "| Maserati Bora | 15.0 | 335 |\n",
              "| Volvo 142E | 21.4 | 109 |\n",
              "\n"
            ],
            "text/plain": [
              "                    mpg  hp \n",
              "Mazda RX4           21.0 110\n",
              "Mazda RX4 Wag       21.0 110\n",
              "Datsun 710          22.8  93\n",
              "Hornet 4 Drive      21.4 110\n",
              "Hornet Sportabout   18.7 175\n",
              "Valiant             18.1 105\n",
              "Duster 360          14.3 245\n",
              "Merc 240D           24.4  62\n",
              "Merc 230            22.8  95\n",
              "Merc 280            19.2 123\n",
              "Merc 280C           17.8 123\n",
              "Merc 450SE          16.4 180\n",
              "Merc 450SL          17.3 180\n",
              "Merc 450SLC         15.2 180\n",
              "Cadillac Fleetwood  10.4 205\n",
              "Lincoln Continental 10.4 215\n",
              "Chrysler Imperial   14.7 230\n",
              "Fiat 128            32.4  66\n",
              "Honda Civic         30.4  52\n",
              "Toyota Corolla      33.9  65\n",
              "Toyota Corona       21.5  97\n",
              "Dodge Challenger    15.5 150\n",
              "AMC Javelin         15.2 150\n",
              "Camaro Z28          13.3 245\n",
              "Pontiac Firebird    19.2 175\n",
              "Fiat X1-9           27.3  66\n",
              "Porsche 914-2       26.0  91\n",
              "Lotus Europa        30.4 113\n",
              "Ford Pantera L      15.8 264\n",
              "Ferrari Dino        19.7 175\n",
              "Maserati Bora       15.0 335\n",
              "Volvo 142E          21.4 109"
            ]
          },
          "metadata": {},
          "output_type": "display_data"
        }
      ],
      "source": [
        "mtcars[c(\"mpg\",\"hp\")]"
      ]
    },
    {
      "cell_type": "code",
      "execution_count": 45,
      "metadata": {
        "colab": {
          "base_uri": "https://localhost:8080/",
          "height": 129
        },
        "id": "bnZTGrFRoSZd",
        "outputId": "e2a77ff3-1adc-40bf-981b-bcda5c42470e"
      },
      "outputs": [
        {
          "data": {
            "text/html": [
              "<table class=\"dataframe\">\n",
              "<caption>A data.frame: 1 × 11</caption>\n",
              "<thead>\n",
              "\t<tr><th></th><th scope=col>mpg</th><th scope=col>cyl</th><th scope=col>disp</th><th scope=col>hp</th><th scope=col>drat</th><th scope=col>wt</th><th scope=col>qsec</th><th scope=col>vs</th><th scope=col>am</th><th scope=col>gear</th><th scope=col>carb</th></tr>\n",
              "\t<tr><th></th><th scope=col>&lt;dbl&gt;</th><th scope=col>&lt;dbl&gt;</th><th scope=col>&lt;dbl&gt;</th><th scope=col>&lt;dbl&gt;</th><th scope=col>&lt;dbl&gt;</th><th scope=col>&lt;dbl&gt;</th><th scope=col>&lt;dbl&gt;</th><th scope=col>&lt;dbl&gt;</th><th scope=col>&lt;dbl&gt;</th><th scope=col>&lt;dbl&gt;</th><th scope=col>&lt;dbl&gt;</th></tr>\n",
              "</thead>\n",
              "<tbody>\n",
              "\t<tr><th scope=row>Camaro Z28</th><td>13.3</td><td>8</td><td>350</td><td>245</td><td>3.73</td><td>3.84</td><td>15.41</td><td>0</td><td>0</td><td>3</td><td>4</td></tr>\n",
              "</tbody>\n",
              "</table>\n"
            ],
            "text/latex": [
              "A data.frame: 1 × 11\n",
              "\\begin{tabular}{r|lllllllllll}\n",
              "  & mpg & cyl & disp & hp & drat & wt & qsec & vs & am & gear & carb\\\\\n",
              "  & <dbl> & <dbl> & <dbl> & <dbl> & <dbl> & <dbl> & <dbl> & <dbl> & <dbl> & <dbl> & <dbl>\\\\\n",
              "\\hline\n",
              "\tCamaro Z28 & 13.3 & 8 & 350 & 245 & 3.73 & 3.84 & 15.41 & 0 & 0 & 3 & 4\\\\\n",
              "\\end{tabular}\n"
            ],
            "text/markdown": [
              "\n",
              "A data.frame: 1 × 11\n",
              "\n",
              "| <!--/--> | mpg &lt;dbl&gt; | cyl &lt;dbl&gt; | disp &lt;dbl&gt; | hp &lt;dbl&gt; | drat &lt;dbl&gt; | wt &lt;dbl&gt; | qsec &lt;dbl&gt; | vs &lt;dbl&gt; | am &lt;dbl&gt; | gear &lt;dbl&gt; | carb &lt;dbl&gt; |\n",
              "|---|---|---|---|---|---|---|---|---|---|---|---|\n",
              "| Camaro Z28 | 13.3 | 8 | 350 | 245 | 3.73 | 3.84 | 15.41 | 0 | 0 | 3 | 4 |\n",
              "\n"
            ],
            "text/plain": [
              "           mpg  cyl disp hp  drat wt   qsec  vs am gear carb\n",
              "Camaro Z28 13.3 8   350  245 3.73 3.84 15.41 0  0  3    4   "
            ]
          },
          "metadata": {},
          "output_type": "display_data"
        }
      ],
      "source": [
        "mtcars[24,]"
      ]
    },
    {
      "cell_type": "code",
      "execution_count": 46,
      "metadata": {
        "colab": {
          "base_uri": "https://localhost:8080/",
          "height": 161
        },
        "id": "noeDLzOvoaj4",
        "outputId": "78d27453-0a52-4dab-abb7-1dec8c3cf09f"
      },
      "outputs": [
        {
          "data": {
            "text/html": [
              "<table class=\"dataframe\">\n",
              "<caption>A data.frame: 2 × 11</caption>\n",
              "<thead>\n",
              "\t<tr><th></th><th scope=col>mpg</th><th scope=col>cyl</th><th scope=col>disp</th><th scope=col>hp</th><th scope=col>drat</th><th scope=col>wt</th><th scope=col>qsec</th><th scope=col>vs</th><th scope=col>am</th><th scope=col>gear</th><th scope=col>carb</th></tr>\n",
              "\t<tr><th></th><th scope=col>&lt;dbl&gt;</th><th scope=col>&lt;dbl&gt;</th><th scope=col>&lt;dbl&gt;</th><th scope=col>&lt;dbl&gt;</th><th scope=col>&lt;dbl&gt;</th><th scope=col>&lt;dbl&gt;</th><th scope=col>&lt;dbl&gt;</th><th scope=col>&lt;dbl&gt;</th><th scope=col>&lt;dbl&gt;</th><th scope=col>&lt;dbl&gt;</th><th scope=col>&lt;dbl&gt;</th></tr>\n",
              "</thead>\n",
              "<tbody>\n",
              "\t<tr><th scope=row>Datsun 710</th><td>22.8</td><td>4</td><td>108</td><td> 93</td><td>3.85</td><td>2.32</td><td>18.61</td><td>1</td><td>1</td><td>4</td><td>1</td></tr>\n",
              "\t<tr><th scope=row>Camaro Z28</th><td>13.3</td><td>8</td><td>350</td><td>245</td><td>3.73</td><td>3.84</td><td>15.41</td><td>0</td><td>0</td><td>3</td><td>4</td></tr>\n",
              "</tbody>\n",
              "</table>\n"
            ],
            "text/latex": [
              "A data.frame: 2 × 11\n",
              "\\begin{tabular}{r|lllllllllll}\n",
              "  & mpg & cyl & disp & hp & drat & wt & qsec & vs & am & gear & carb\\\\\n",
              "  & <dbl> & <dbl> & <dbl> & <dbl> & <dbl> & <dbl> & <dbl> & <dbl> & <dbl> & <dbl> & <dbl>\\\\\n",
              "\\hline\n",
              "\tDatsun 710 & 22.8 & 4 & 108 &  93 & 3.85 & 2.32 & 18.61 & 1 & 1 & 4 & 1\\\\\n",
              "\tCamaro Z28 & 13.3 & 8 & 350 & 245 & 3.73 & 3.84 & 15.41 & 0 & 0 & 3 & 4\\\\\n",
              "\\end{tabular}\n"
            ],
            "text/markdown": [
              "\n",
              "A data.frame: 2 × 11\n",
              "\n",
              "| <!--/--> | mpg &lt;dbl&gt; | cyl &lt;dbl&gt; | disp &lt;dbl&gt; | hp &lt;dbl&gt; | drat &lt;dbl&gt; | wt &lt;dbl&gt; | qsec &lt;dbl&gt; | vs &lt;dbl&gt; | am &lt;dbl&gt; | gear &lt;dbl&gt; | carb &lt;dbl&gt; |\n",
              "|---|---|---|---|---|---|---|---|---|---|---|---|\n",
              "| Datsun 710 | 22.8 | 4 | 108 |  93 | 3.85 | 2.32 | 18.61 | 1 | 1 | 4 | 1 |\n",
              "| Camaro Z28 | 13.3 | 8 | 350 | 245 | 3.73 | 3.84 | 15.41 | 0 | 0 | 3 | 4 |\n",
              "\n"
            ],
            "text/plain": [
              "           mpg  cyl disp hp  drat wt   qsec  vs am gear carb\n",
              "Datsun 710 22.8 4   108   93 3.85 2.32 18.61 1  1  4    1   \n",
              "Camaro Z28 13.3 8   350  245 3.73 3.84 15.41 0  0  3    4   "
            ]
          },
          "metadata": {},
          "output_type": "display_data"
        }
      ],
      "source": [
        "mtcars[c(3,24),]"
      ]
    },
    {
      "cell_type": "code",
      "execution_count": 47,
      "metadata": {
        "colab": {
          "base_uri": "https://localhost:8080/",
          "height": 129
        },
        "id": "iIBIPeerogZ4",
        "outputId": "fc9964f0-0b2e-44b0-9448-6f0e3c2ec5d8"
      },
      "outputs": [
        {
          "data": {
            "text/html": [
              "<table class=\"dataframe\">\n",
              "<caption>A data.frame: 1 × 11</caption>\n",
              "<thead>\n",
              "\t<tr><th></th><th scope=col>mpg</th><th scope=col>cyl</th><th scope=col>disp</th><th scope=col>hp</th><th scope=col>drat</th><th scope=col>wt</th><th scope=col>qsec</th><th scope=col>vs</th><th scope=col>am</th><th scope=col>gear</th><th scope=col>carb</th></tr>\n",
              "\t<tr><th></th><th scope=col>&lt;dbl&gt;</th><th scope=col>&lt;dbl&gt;</th><th scope=col>&lt;dbl&gt;</th><th scope=col>&lt;dbl&gt;</th><th scope=col>&lt;dbl&gt;</th><th scope=col>&lt;dbl&gt;</th><th scope=col>&lt;dbl&gt;</th><th scope=col>&lt;dbl&gt;</th><th scope=col>&lt;dbl&gt;</th><th scope=col>&lt;dbl&gt;</th><th scope=col>&lt;dbl&gt;</th></tr>\n",
              "</thead>\n",
              "<tbody>\n",
              "\t<tr><th scope=row>Camaro Z28</th><td>13.3</td><td>8</td><td>350</td><td>245</td><td>3.73</td><td>3.84</td><td>15.41</td><td>0</td><td>0</td><td>3</td><td>4</td></tr>\n",
              "</tbody>\n",
              "</table>\n"
            ],
            "text/latex": [
              "A data.frame: 1 × 11\n",
              "\\begin{tabular}{r|lllllllllll}\n",
              "  & mpg & cyl & disp & hp & drat & wt & qsec & vs & am & gear & carb\\\\\n",
              "  & <dbl> & <dbl> & <dbl> & <dbl> & <dbl> & <dbl> & <dbl> & <dbl> & <dbl> & <dbl> & <dbl>\\\\\n",
              "\\hline\n",
              "\tCamaro Z28 & 13.3 & 8 & 350 & 245 & 3.73 & 3.84 & 15.41 & 0 & 0 & 3 & 4\\\\\n",
              "\\end{tabular}\n"
            ],
            "text/markdown": [
              "\n",
              "A data.frame: 1 × 11\n",
              "\n",
              "| <!--/--> | mpg &lt;dbl&gt; | cyl &lt;dbl&gt; | disp &lt;dbl&gt; | hp &lt;dbl&gt; | drat &lt;dbl&gt; | wt &lt;dbl&gt; | qsec &lt;dbl&gt; | vs &lt;dbl&gt; | am &lt;dbl&gt; | gear &lt;dbl&gt; | carb &lt;dbl&gt; |\n",
              "|---|---|---|---|---|---|---|---|---|---|---|---|\n",
              "| Camaro Z28 | 13.3 | 8 | 350 | 245 | 3.73 | 3.84 | 15.41 | 0 | 0 | 3 | 4 |\n",
              "\n"
            ],
            "text/plain": [
              "           mpg  cyl disp hp  drat wt   qsec  vs am gear carb\n",
              "Camaro Z28 13.3 8   350  245 3.73 3.84 15.41 0  0  3    4   "
            ]
          },
          "metadata": {},
          "output_type": "display_data"
        }
      ],
      "source": [
        "mtcars[\"Camaro Z28\",]"
      ]
    },
    {
      "cell_type": "code",
      "execution_count": 19,
      "metadata": {
        "colab": {
          "base_uri": "https://localhost:8080/",
          "height": 161
        },
        "id": "Y7AS_YcKomb0",
        "outputId": "4d992bd4-9ae1-42bb-ba84-1548fd99cf02"
      },
      "outputs": [
        {
          "data": {
            "text/html": [
              "<table class=\"dataframe\">\n",
              "<caption>A data.frame: 2 × 11</caption>\n",
              "<thead>\n",
              "\t<tr><th></th><th scope=col>mpg</th><th scope=col>cyl</th><th scope=col>disp</th><th scope=col>hp</th><th scope=col>drat</th><th scope=col>wt</th><th scope=col>qsec</th><th scope=col>vs</th><th scope=col>am</th><th scope=col>gear</th><th scope=col>carb</th></tr>\n",
              "\t<tr><th></th><th scope=col>&lt;dbl&gt;</th><th scope=col>&lt;dbl&gt;</th><th scope=col>&lt;dbl&gt;</th><th scope=col>&lt;dbl&gt;</th><th scope=col>&lt;dbl&gt;</th><th scope=col>&lt;dbl&gt;</th><th scope=col>&lt;dbl&gt;</th><th scope=col>&lt;dbl&gt;</th><th scope=col>&lt;dbl&gt;</th><th scope=col>&lt;dbl&gt;</th><th scope=col>&lt;dbl&gt;</th></tr>\n",
              "</thead>\n",
              "<tbody>\n",
              "\t<tr><th scope=row>Datsun 710</th><td>22.8</td><td> 4</td><td>108</td><td>93</td><td>3.85</td><td>2.32</td><td>18.61</td><td> 1</td><td> 1</td><td> 4</td><td> 1</td></tr>\n",
              "\t<tr><th scope=row>NA</th><td>  NA</td><td>NA</td><td> NA</td><td>NA</td><td>  NA</td><td>  NA</td><td>   NA</td><td>NA</td><td>NA</td><td>NA</td><td>NA</td></tr>\n",
              "</tbody>\n",
              "</table>\n"
            ],
            "text/latex": [
              "A data.frame: 2 × 11\n",
              "\\begin{tabular}{r|lllllllllll}\n",
              "  & mpg & cyl & disp & hp & drat & wt & qsec & vs & am & gear & carb\\\\\n",
              "  & <dbl> & <dbl> & <dbl> & <dbl> & <dbl> & <dbl> & <dbl> & <dbl> & <dbl> & <dbl> & <dbl>\\\\\n",
              "\\hline\n",
              "\tDatsun 710 & 22.8 &  4 & 108 & 93 & 3.85 & 2.32 & 18.61 &  1 &  1 &  4 &  1\\\\\n",
              "\tNA &   NA & NA &  NA & NA &   NA &   NA &    NA & NA & NA & NA & NA\\\\\n",
              "\\end{tabular}\n"
            ],
            "text/markdown": [
              "\n",
              "A data.frame: 2 × 11\n",
              "\n",
              "| <!--/--> | mpg &lt;dbl&gt; | cyl &lt;dbl&gt; | disp &lt;dbl&gt; | hp &lt;dbl&gt; | drat &lt;dbl&gt; | wt &lt;dbl&gt; | qsec &lt;dbl&gt; | vs &lt;dbl&gt; | am &lt;dbl&gt; | gear &lt;dbl&gt; | carb &lt;dbl&gt; |\n",
              "|---|---|---|---|---|---|---|---|---|---|---|---|\n",
              "| Datsun 710 | 22.8 |  4 | 108 | 93 | 3.85 | 2.32 | 18.61 |  1 |  1 |  4 |  1 |\n",
              "| NA |   NA | NA |  NA | NA |   NA |   NA |    NA | NA | NA | NA | NA |\n",
              "\n"
            ],
            "text/plain": [
              "           mpg  cyl disp hp drat wt   qsec  vs am gear carb\n",
              "Datsun 710 22.8  4  108  93 3.85 2.32 18.61  1  1  4    1  \n",
              "NA           NA NA   NA  NA   NA   NA    NA NA NA NA   NA  "
            ]
          },
          "metadata": {},
          "output_type": "display_data"
        }
      ],
      "source": [
        "mtcars[c(\"Datsun 710\",\"Camaro z28\"),]"
      ]
    },
    {
      "cell_type": "code",
      "execution_count": 20,
      "metadata": {
        "colab": {
          "base_uri": "https://localhost:8080/",
          "height": 52
        },
        "id": "0cp8dem-oxE3",
        "outputId": "aad06151-1835-4275-f289-b81dddbe7201"
      },
      "outputs": [
        {
          "data": {
            "text/html": [
              "<style>\n",
              ".list-inline {list-style: none; margin:0; padding: 0}\n",
              ".list-inline>li {display: inline-block}\n",
              ".list-inline>li:not(:last-child)::after {content: \"\\00b7\"; padding: 0 .5ex}\n",
              "</style>\n",
              "<ol class=list-inline><li>FALSE</li><li>FALSE</li><li>FALSE</li><li>TRUE</li><li>TRUE</li><li>TRUE</li><li>TRUE</li><li>TRUE</li><li>TRUE</li><li>TRUE</li><li>TRUE</li><li>TRUE</li><li>TRUE</li><li>TRUE</li><li>TRUE</li><li>TRUE</li><li>TRUE</li><li>FALSE</li><li>FALSE</li><li>FALSE</li><li>TRUE</li><li>TRUE</li><li>TRUE</li><li>TRUE</li><li>TRUE</li><li>FALSE</li><li>FALSE</li><li>FALSE</li><li>FALSE</li><li>FALSE</li><li>FALSE</li><li>FALSE</li></ol>\n"
            ],
            "text/latex": [
              "\\begin{enumerate*}\n",
              "\\item FALSE\n",
              "\\item FALSE\n",
              "\\item FALSE\n",
              "\\item TRUE\n",
              "\\item TRUE\n",
              "\\item TRUE\n",
              "\\item TRUE\n",
              "\\item TRUE\n",
              "\\item TRUE\n",
              "\\item TRUE\n",
              "\\item TRUE\n",
              "\\item TRUE\n",
              "\\item TRUE\n",
              "\\item TRUE\n",
              "\\item TRUE\n",
              "\\item TRUE\n",
              "\\item TRUE\n",
              "\\item FALSE\n",
              "\\item FALSE\n",
              "\\item FALSE\n",
              "\\item TRUE\n",
              "\\item TRUE\n",
              "\\item TRUE\n",
              "\\item TRUE\n",
              "\\item TRUE\n",
              "\\item FALSE\n",
              "\\item FALSE\n",
              "\\item FALSE\n",
              "\\item FALSE\n",
              "\\item FALSE\n",
              "\\item FALSE\n",
              "\\item FALSE\n",
              "\\end{enumerate*}\n"
            ],
            "text/markdown": [
              "1. FALSE\n",
              "2. FALSE\n",
              "3. FALSE\n",
              "4. TRUE\n",
              "5. TRUE\n",
              "6. TRUE\n",
              "7. TRUE\n",
              "8. TRUE\n",
              "9. TRUE\n",
              "10. TRUE\n",
              "11. TRUE\n",
              "12. TRUE\n",
              "13. TRUE\n",
              "14. TRUE\n",
              "15. TRUE\n",
              "16. TRUE\n",
              "17. TRUE\n",
              "18. FALSE\n",
              "19. FALSE\n",
              "20. FALSE\n",
              "21. TRUE\n",
              "22. TRUE\n",
              "23. TRUE\n",
              "24. TRUE\n",
              "25. TRUE\n",
              "26. FALSE\n",
              "27. FALSE\n",
              "28. FALSE\n",
              "29. FALSE\n",
              "30. FALSE\n",
              "31. FALSE\n",
              "32. FALSE\n",
              "\n",
              "\n"
            ],
            "text/plain": [
              " [1] FALSE FALSE FALSE  TRUE  TRUE  TRUE  TRUE  TRUE  TRUE  TRUE  TRUE  TRUE\n",
              "[13]  TRUE  TRUE  TRUE  TRUE  TRUE FALSE FALSE FALSE  TRUE  TRUE  TRUE  TRUE\n",
              "[25]  TRUE FALSE FALSE FALSE FALSE FALSE FALSE FALSE"
            ]
          },
          "metadata": {},
          "output_type": "display_data"
        }
      ],
      "source": [
        "L = mtcars$am == 0\n",
        "L"
      ]
    },
    {
      "cell_type": "code",
      "execution_count": 21,
      "metadata": {
        "colab": {
          "base_uri": "https://localhost:8080/",
          "height": 694
        },
        "id": "SYSjOcngo3Ac",
        "outputId": "2be07118-52cf-4dea-928a-64a15c108958"
      },
      "outputs": [
        {
          "data": {
            "text/html": [
              "<table class=\"dataframe\">\n",
              "<caption>A data.frame: 19 × 11</caption>\n",
              "<thead>\n",
              "\t<tr><th></th><th scope=col>mpg</th><th scope=col>cyl</th><th scope=col>disp</th><th scope=col>hp</th><th scope=col>drat</th><th scope=col>wt</th><th scope=col>qsec</th><th scope=col>vs</th><th scope=col>am</th><th scope=col>gear</th><th scope=col>carb</th></tr>\n",
              "\t<tr><th></th><th scope=col>&lt;dbl&gt;</th><th scope=col>&lt;dbl&gt;</th><th scope=col>&lt;dbl&gt;</th><th scope=col>&lt;dbl&gt;</th><th scope=col>&lt;dbl&gt;</th><th scope=col>&lt;dbl&gt;</th><th scope=col>&lt;dbl&gt;</th><th scope=col>&lt;dbl&gt;</th><th scope=col>&lt;dbl&gt;</th><th scope=col>&lt;dbl&gt;</th><th scope=col>&lt;dbl&gt;</th></tr>\n",
              "</thead>\n",
              "<tbody>\n",
              "\t<tr><th scope=row>Hornet 4 Drive</th><td>21.4</td><td>6</td><td>258.0</td><td>110</td><td>3.08</td><td>3.215</td><td>19.44</td><td>1</td><td>0</td><td>3</td><td>1</td></tr>\n",
              "\t<tr><th scope=row>Hornet Sportabout</th><td>18.7</td><td>8</td><td>360.0</td><td>175</td><td>3.15</td><td>3.440</td><td>17.02</td><td>0</td><td>0</td><td>3</td><td>2</td></tr>\n",
              "\t<tr><th scope=row>Valiant</th><td>18.1</td><td>6</td><td>225.0</td><td>105</td><td>2.76</td><td>3.460</td><td>20.22</td><td>1</td><td>0</td><td>3</td><td>1</td></tr>\n",
              "\t<tr><th scope=row>Duster 360</th><td>14.3</td><td>8</td><td>360.0</td><td>245</td><td>3.21</td><td>3.570</td><td>15.84</td><td>0</td><td>0</td><td>3</td><td>4</td></tr>\n",
              "\t<tr><th scope=row>Merc 240D</th><td>24.4</td><td>4</td><td>146.7</td><td> 62</td><td>3.69</td><td>3.190</td><td>20.00</td><td>1</td><td>0</td><td>4</td><td>2</td></tr>\n",
              "\t<tr><th scope=row>Merc 230</th><td>22.8</td><td>4</td><td>140.8</td><td> 95</td><td>3.92</td><td>3.150</td><td>22.90</td><td>1</td><td>0</td><td>4</td><td>2</td></tr>\n",
              "\t<tr><th scope=row>Merc 280</th><td>19.2</td><td>6</td><td>167.6</td><td>123</td><td>3.92</td><td>3.440</td><td>18.30</td><td>1</td><td>0</td><td>4</td><td>4</td></tr>\n",
              "\t<tr><th scope=row>Merc 280C</th><td>17.8</td><td>6</td><td>167.6</td><td>123</td><td>3.92</td><td>3.440</td><td>18.90</td><td>1</td><td>0</td><td>4</td><td>4</td></tr>\n",
              "\t<tr><th scope=row>Merc 450SE</th><td>16.4</td><td>8</td><td>275.8</td><td>180</td><td>3.07</td><td>4.070</td><td>17.40</td><td>0</td><td>0</td><td>3</td><td>3</td></tr>\n",
              "\t<tr><th scope=row>Merc 450SL</th><td>17.3</td><td>8</td><td>275.8</td><td>180</td><td>3.07</td><td>3.730</td><td>17.60</td><td>0</td><td>0</td><td>3</td><td>3</td></tr>\n",
              "\t<tr><th scope=row>Merc 450SLC</th><td>15.2</td><td>8</td><td>275.8</td><td>180</td><td>3.07</td><td>3.780</td><td>18.00</td><td>0</td><td>0</td><td>3</td><td>3</td></tr>\n",
              "\t<tr><th scope=row>Cadillac Fleetwood</th><td>10.4</td><td>8</td><td>472.0</td><td>205</td><td>2.93</td><td>5.250</td><td>17.98</td><td>0</td><td>0</td><td>3</td><td>4</td></tr>\n",
              "\t<tr><th scope=row>Lincoln Continental</th><td>10.4</td><td>8</td><td>460.0</td><td>215</td><td>3.00</td><td>5.424</td><td>17.82</td><td>0</td><td>0</td><td>3</td><td>4</td></tr>\n",
              "\t<tr><th scope=row>Chrysler Imperial</th><td>14.7</td><td>8</td><td>440.0</td><td>230</td><td>3.23</td><td>5.345</td><td>17.42</td><td>0</td><td>0</td><td>3</td><td>4</td></tr>\n",
              "\t<tr><th scope=row>Toyota Corona</th><td>21.5</td><td>4</td><td>120.1</td><td> 97</td><td>3.70</td><td>2.465</td><td>20.01</td><td>1</td><td>0</td><td>3</td><td>1</td></tr>\n",
              "\t<tr><th scope=row>Dodge Challenger</th><td>15.5</td><td>8</td><td>318.0</td><td>150</td><td>2.76</td><td>3.520</td><td>16.87</td><td>0</td><td>0</td><td>3</td><td>2</td></tr>\n",
              "\t<tr><th scope=row>AMC Javelin</th><td>15.2</td><td>8</td><td>304.0</td><td>150</td><td>3.15</td><td>3.435</td><td>17.30</td><td>0</td><td>0</td><td>3</td><td>2</td></tr>\n",
              "\t<tr><th scope=row>Camaro Z28</th><td>13.3</td><td>8</td><td>350.0</td><td>245</td><td>3.73</td><td>3.840</td><td>15.41</td><td>0</td><td>0</td><td>3</td><td>4</td></tr>\n",
              "\t<tr><th scope=row>Pontiac Firebird</th><td>19.2</td><td>8</td><td>400.0</td><td>175</td><td>3.08</td><td>3.845</td><td>17.05</td><td>0</td><td>0</td><td>3</td><td>2</td></tr>\n",
              "</tbody>\n",
              "</table>\n"
            ],
            "text/latex": [
              "A data.frame: 19 × 11\n",
              "\\begin{tabular}{r|lllllllllll}\n",
              "  & mpg & cyl & disp & hp & drat & wt & qsec & vs & am & gear & carb\\\\\n",
              "  & <dbl> & <dbl> & <dbl> & <dbl> & <dbl> & <dbl> & <dbl> & <dbl> & <dbl> & <dbl> & <dbl>\\\\\n",
              "\\hline\n",
              "\tHornet 4 Drive & 21.4 & 6 & 258.0 & 110 & 3.08 & 3.215 & 19.44 & 1 & 0 & 3 & 1\\\\\n",
              "\tHornet Sportabout & 18.7 & 8 & 360.0 & 175 & 3.15 & 3.440 & 17.02 & 0 & 0 & 3 & 2\\\\\n",
              "\tValiant & 18.1 & 6 & 225.0 & 105 & 2.76 & 3.460 & 20.22 & 1 & 0 & 3 & 1\\\\\n",
              "\tDuster 360 & 14.3 & 8 & 360.0 & 245 & 3.21 & 3.570 & 15.84 & 0 & 0 & 3 & 4\\\\\n",
              "\tMerc 240D & 24.4 & 4 & 146.7 &  62 & 3.69 & 3.190 & 20.00 & 1 & 0 & 4 & 2\\\\\n",
              "\tMerc 230 & 22.8 & 4 & 140.8 &  95 & 3.92 & 3.150 & 22.90 & 1 & 0 & 4 & 2\\\\\n",
              "\tMerc 280 & 19.2 & 6 & 167.6 & 123 & 3.92 & 3.440 & 18.30 & 1 & 0 & 4 & 4\\\\\n",
              "\tMerc 280C & 17.8 & 6 & 167.6 & 123 & 3.92 & 3.440 & 18.90 & 1 & 0 & 4 & 4\\\\\n",
              "\tMerc 450SE & 16.4 & 8 & 275.8 & 180 & 3.07 & 4.070 & 17.40 & 0 & 0 & 3 & 3\\\\\n",
              "\tMerc 450SL & 17.3 & 8 & 275.8 & 180 & 3.07 & 3.730 & 17.60 & 0 & 0 & 3 & 3\\\\\n",
              "\tMerc 450SLC & 15.2 & 8 & 275.8 & 180 & 3.07 & 3.780 & 18.00 & 0 & 0 & 3 & 3\\\\\n",
              "\tCadillac Fleetwood & 10.4 & 8 & 472.0 & 205 & 2.93 & 5.250 & 17.98 & 0 & 0 & 3 & 4\\\\\n",
              "\tLincoln Continental & 10.4 & 8 & 460.0 & 215 & 3.00 & 5.424 & 17.82 & 0 & 0 & 3 & 4\\\\\n",
              "\tChrysler Imperial & 14.7 & 8 & 440.0 & 230 & 3.23 & 5.345 & 17.42 & 0 & 0 & 3 & 4\\\\\n",
              "\tToyota Corona & 21.5 & 4 & 120.1 &  97 & 3.70 & 2.465 & 20.01 & 1 & 0 & 3 & 1\\\\\n",
              "\tDodge Challenger & 15.5 & 8 & 318.0 & 150 & 2.76 & 3.520 & 16.87 & 0 & 0 & 3 & 2\\\\\n",
              "\tAMC Javelin & 15.2 & 8 & 304.0 & 150 & 3.15 & 3.435 & 17.30 & 0 & 0 & 3 & 2\\\\\n",
              "\tCamaro Z28 & 13.3 & 8 & 350.0 & 245 & 3.73 & 3.840 & 15.41 & 0 & 0 & 3 & 4\\\\\n",
              "\tPontiac Firebird & 19.2 & 8 & 400.0 & 175 & 3.08 & 3.845 & 17.05 & 0 & 0 & 3 & 2\\\\\n",
              "\\end{tabular}\n"
            ],
            "text/markdown": [
              "\n",
              "A data.frame: 19 × 11\n",
              "\n",
              "| <!--/--> | mpg &lt;dbl&gt; | cyl &lt;dbl&gt; | disp &lt;dbl&gt; | hp &lt;dbl&gt; | drat &lt;dbl&gt; | wt &lt;dbl&gt; | qsec &lt;dbl&gt; | vs &lt;dbl&gt; | am &lt;dbl&gt; | gear &lt;dbl&gt; | carb &lt;dbl&gt; |\n",
              "|---|---|---|---|---|---|---|---|---|---|---|---|\n",
              "| Hornet 4 Drive | 21.4 | 6 | 258.0 | 110 | 3.08 | 3.215 | 19.44 | 1 | 0 | 3 | 1 |\n",
              "| Hornet Sportabout | 18.7 | 8 | 360.0 | 175 | 3.15 | 3.440 | 17.02 | 0 | 0 | 3 | 2 |\n",
              "| Valiant | 18.1 | 6 | 225.0 | 105 | 2.76 | 3.460 | 20.22 | 1 | 0 | 3 | 1 |\n",
              "| Duster 360 | 14.3 | 8 | 360.0 | 245 | 3.21 | 3.570 | 15.84 | 0 | 0 | 3 | 4 |\n",
              "| Merc 240D | 24.4 | 4 | 146.7 |  62 | 3.69 | 3.190 | 20.00 | 1 | 0 | 4 | 2 |\n",
              "| Merc 230 | 22.8 | 4 | 140.8 |  95 | 3.92 | 3.150 | 22.90 | 1 | 0 | 4 | 2 |\n",
              "| Merc 280 | 19.2 | 6 | 167.6 | 123 | 3.92 | 3.440 | 18.30 | 1 | 0 | 4 | 4 |\n",
              "| Merc 280C | 17.8 | 6 | 167.6 | 123 | 3.92 | 3.440 | 18.90 | 1 | 0 | 4 | 4 |\n",
              "| Merc 450SE | 16.4 | 8 | 275.8 | 180 | 3.07 | 4.070 | 17.40 | 0 | 0 | 3 | 3 |\n",
              "| Merc 450SL | 17.3 | 8 | 275.8 | 180 | 3.07 | 3.730 | 17.60 | 0 | 0 | 3 | 3 |\n",
              "| Merc 450SLC | 15.2 | 8 | 275.8 | 180 | 3.07 | 3.780 | 18.00 | 0 | 0 | 3 | 3 |\n",
              "| Cadillac Fleetwood | 10.4 | 8 | 472.0 | 205 | 2.93 | 5.250 | 17.98 | 0 | 0 | 3 | 4 |\n",
              "| Lincoln Continental | 10.4 | 8 | 460.0 | 215 | 3.00 | 5.424 | 17.82 | 0 | 0 | 3 | 4 |\n",
              "| Chrysler Imperial | 14.7 | 8 | 440.0 | 230 | 3.23 | 5.345 | 17.42 | 0 | 0 | 3 | 4 |\n",
              "| Toyota Corona | 21.5 | 4 | 120.1 |  97 | 3.70 | 2.465 | 20.01 | 1 | 0 | 3 | 1 |\n",
              "| Dodge Challenger | 15.5 | 8 | 318.0 | 150 | 2.76 | 3.520 | 16.87 | 0 | 0 | 3 | 2 |\n",
              "| AMC Javelin | 15.2 | 8 | 304.0 | 150 | 3.15 | 3.435 | 17.30 | 0 | 0 | 3 | 2 |\n",
              "| Camaro Z28 | 13.3 | 8 | 350.0 | 245 | 3.73 | 3.840 | 15.41 | 0 | 0 | 3 | 4 |\n",
              "| Pontiac Firebird | 19.2 | 8 | 400.0 | 175 | 3.08 | 3.845 | 17.05 | 0 | 0 | 3 | 2 |\n",
              "\n"
            ],
            "text/plain": [
              "                    mpg  cyl disp  hp  drat wt    qsec  vs am gear carb\n",
              "Hornet 4 Drive      21.4 6   258.0 110 3.08 3.215 19.44 1  0  3    1   \n",
              "Hornet Sportabout   18.7 8   360.0 175 3.15 3.440 17.02 0  0  3    2   \n",
              "Valiant             18.1 6   225.0 105 2.76 3.460 20.22 1  0  3    1   \n",
              "Duster 360          14.3 8   360.0 245 3.21 3.570 15.84 0  0  3    4   \n",
              "Merc 240D           24.4 4   146.7  62 3.69 3.190 20.00 1  0  4    2   \n",
              "Merc 230            22.8 4   140.8  95 3.92 3.150 22.90 1  0  4    2   \n",
              "Merc 280            19.2 6   167.6 123 3.92 3.440 18.30 1  0  4    4   \n",
              "Merc 280C           17.8 6   167.6 123 3.92 3.440 18.90 1  0  4    4   \n",
              "Merc 450SE          16.4 8   275.8 180 3.07 4.070 17.40 0  0  3    3   \n",
              "Merc 450SL          17.3 8   275.8 180 3.07 3.730 17.60 0  0  3    3   \n",
              "Merc 450SLC         15.2 8   275.8 180 3.07 3.780 18.00 0  0  3    3   \n",
              "Cadillac Fleetwood  10.4 8   472.0 205 2.93 5.250 17.98 0  0  3    4   \n",
              "Lincoln Continental 10.4 8   460.0 215 3.00 5.424 17.82 0  0  3    4   \n",
              "Chrysler Imperial   14.7 8   440.0 230 3.23 5.345 17.42 0  0  3    4   \n",
              "Toyota Corona       21.5 4   120.1  97 3.70 2.465 20.01 1  0  3    1   \n",
              "Dodge Challenger    15.5 8   318.0 150 2.76 3.520 16.87 0  0  3    2   \n",
              "AMC Javelin         15.2 8   304.0 150 3.15 3.435 17.30 0  0  3    2   \n",
              "Camaro Z28          13.3 8   350.0 245 3.73 3.840 15.41 0  0  3    4   \n",
              "Pontiac Firebird    19.2 8   400.0 175 3.08 3.845 17.05 0  0  3    2   "
            ]
          },
          "metadata": {},
          "output_type": "display_data"
        }
      ],
      "source": [
        "mtcars[L,]"
      ]
    },
    {
      "cell_type": "code",
      "execution_count": 22,
      "metadata": {
        "colab": {
          "base_uri": "https://localhost:8080/",
          "height": 34
        },
        "id": "kv8fTstIo_Ry",
        "outputId": "e703e701-84f8-449b-99b1-32af890cfacb"
      },
      "outputs": [
        {
          "data": {
            "text/html": [
              "<style>\n",
              ".list-inline {list-style: none; margin:0; padding: 0}\n",
              ".list-inline>li {display: inline-block}\n",
              ".list-inline>li:not(:last-child)::after {content: \"\\00b7\"; padding: 0 .5ex}\n",
              "</style>\n",
              "<ol class=list-inline><li>21.4</li><li>18.7</li><li>18.1</li><li>14.3</li><li>24.4</li><li>22.8</li><li>19.2</li><li>17.8</li><li>16.4</li><li>17.3</li><li>15.2</li><li>10.4</li><li>10.4</li><li>14.7</li><li>21.5</li><li>15.5</li><li>15.2</li><li>13.3</li><li>19.2</li></ol>\n"
            ],
            "text/latex": [
              "\\begin{enumerate*}\n",
              "\\item 21.4\n",
              "\\item 18.7\n",
              "\\item 18.1\n",
              "\\item 14.3\n",
              "\\item 24.4\n",
              "\\item 22.8\n",
              "\\item 19.2\n",
              "\\item 17.8\n",
              "\\item 16.4\n",
              "\\item 17.3\n",
              "\\item 15.2\n",
              "\\item 10.4\n",
              "\\item 10.4\n",
              "\\item 14.7\n",
              "\\item 21.5\n",
              "\\item 15.5\n",
              "\\item 15.2\n",
              "\\item 13.3\n",
              "\\item 19.2\n",
              "\\end{enumerate*}\n"
            ],
            "text/markdown": [
              "1. 21.4\n",
              "2. 18.7\n",
              "3. 18.1\n",
              "4. 14.3\n",
              "5. 24.4\n",
              "6. 22.8\n",
              "7. 19.2\n",
              "8. 17.8\n",
              "9. 16.4\n",
              "10. 17.3\n",
              "11. 15.2\n",
              "12. 10.4\n",
              "13. 10.4\n",
              "14. 14.7\n",
              "15. 21.5\n",
              "16. 15.5\n",
              "17. 15.2\n",
              "18. 13.3\n",
              "19. 19.2\n",
              "\n",
              "\n"
            ],
            "text/plain": [
              " [1] 21.4 18.7 18.1 14.3 24.4 22.8 19.2 17.8 16.4 17.3 15.2 10.4 10.4 14.7 21.5\n",
              "[16] 15.5 15.2 13.3 19.2"
            ]
          },
          "metadata": {},
          "output_type": "display_data"
        }
      ],
      "source": [
        "mtcars[L,]$mpg"
      ]
    },
    {
      "cell_type": "markdown",
      "metadata": {
        "id": "B2mFcFV2pcI0"
      },
      "source": [
        "# Ejemplo:\n",
        "\n",
        "Realizar un análisis exploratorio de datos y visualizar la relación entre algunas variables clave del dataset mtcars usando R.\n",
        "\n",
        "- Calcular la Correlación entre las variables mpg, hp, y wt (peso del vehículo) y mostrar la matriz de correlación.\n",
        "\n",
        "- Emplear un Modelo lineal simple para ajustar un modelo de regresión lineal que prediga mpg usando como variable explicativa hp. Mostrar el resumen del modelo y el gráfico con la línea de regresión ajustada."
      ]
    },
    {
      "cell_type": "code",
      "execution_count": 23,
      "metadata": {
        "id": "LBYKfRIapZhz"
      },
      "outputs": [],
      "source": [
        "# 1. Cargar el dataset\n",
        "data(\"mtcars\")\n",
        "\n",
        "\n"
      ]
    },
    {
      "cell_type": "code",
      "execution_count": 24,
      "metadata": {
        "colab": {
          "base_uri": "https://localhost:8080/",
          "height": 398
        },
        "id": "3qTA9t7lpfzG",
        "outputId": "21b87dbe-ea21-4705-d1b1-df1342e30f18"
      },
      "outputs": [
        {
          "data": {
            "text/plain": [
              "      mpg             cyl             disp             hp       \n",
              " Min.   :10.40   Min.   :4.000   Min.   : 71.1   Min.   : 52.0  \n",
              " 1st Qu.:15.43   1st Qu.:4.000   1st Qu.:120.8   1st Qu.: 96.5  \n",
              " Median :19.20   Median :6.000   Median :196.3   Median :123.0  \n",
              " Mean   :20.09   Mean   :6.188   Mean   :230.7   Mean   :146.7  \n",
              " 3rd Qu.:22.80   3rd Qu.:8.000   3rd Qu.:326.0   3rd Qu.:180.0  \n",
              " Max.   :33.90   Max.   :8.000   Max.   :472.0   Max.   :335.0  \n",
              "      drat             wt             qsec             vs        \n",
              " Min.   :2.760   Min.   :1.513   Min.   :14.50   Min.   :0.0000  \n",
              " 1st Qu.:3.080   1st Qu.:2.581   1st Qu.:16.89   1st Qu.:0.0000  \n",
              " Median :3.695   Median :3.325   Median :17.71   Median :0.0000  \n",
              " Mean   :3.597   Mean   :3.217   Mean   :17.85   Mean   :0.4375  \n",
              " 3rd Qu.:3.920   3rd Qu.:3.610   3rd Qu.:18.90   3rd Qu.:1.0000  \n",
              " Max.   :4.930   Max.   :5.424   Max.   :22.90   Max.   :1.0000  \n",
              "       am              gear            carb      \n",
              " Min.   :0.0000   Min.   :3.000   Min.   :1.000  \n",
              " 1st Qu.:0.0000   1st Qu.:3.000   1st Qu.:2.000  \n",
              " Median :0.0000   Median :4.000   Median :2.000  \n",
              " Mean   :0.4062   Mean   :3.688   Mean   :2.812  \n",
              " 3rd Qu.:1.0000   3rd Qu.:4.000   3rd Qu.:4.000  \n",
              " Max.   :1.0000   Max.   :5.000   Max.   :8.000  "
            ]
          },
          "metadata": {},
          "output_type": "display_data"
        }
      ],
      "source": [
        "# 2. Resumen estadístico\n",
        "summary(mtcars)\n",
        "\n"
      ]
    },
    {
      "cell_type": "code",
      "execution_count": 25,
      "metadata": {
        "colab": {
          "base_uri": "https://localhost:8080/",
          "height": 1000
        },
        "id": "MMYJpWxkpiNN",
        "outputId": "3bfa892d-712f-4494-d523-bcae7a29df19"
      },
      "outputs": [
        {
          "data": {
            "image/png": "[encoded data removed]",
            "text/plain": [
              "Plot with title “Relación entre Caballos de fuerza y Consumo de combustible”"
            ]
          },
          "metadata": {
            "image/png": {
              "height": 420,
              "width": 420
            }
          },
          "output_type": "display_data"
        },
        {
          "data": {
            "image/png": "[encoded data removed]",
            "text/plain": [
              "Plot with title “Consumo de combustible por número de cilindros”"
            ]
          },
          "metadata": {
            "image/png": {
              "height": 420,
              "width": 420
            }
          },
          "output_type": "display_data"
        },
        {
          "data": {
            "image/png": "[encoded data removed]",
            "text/plain": [
              "Plot with title “Distribución del número de marchas”"
            ]
          },
          "metadata": {
            "image/png": {
              "height": 420,
              "width": 420
            }
          },
          "output_type": "display_data"
        }
      ],
      "source": [
        "# 3. Visualización\n",
        "\n",
        "# 3.1 Gráfico de dispersión mpg vs hp\n",
        "plot(mtcars$hp, mtcars$mpg,\n",
        "     xlab = \"Caballos de fuerza (hp)\",\n",
        "     ylab = \"Millas por galón (mpg)\",\n",
        "     main = \"Relación entre Caballos de fuerza y Consumo de combustible\")\n",
        "\n",
        "# 3.2 Boxplot de mpg agrupado por número de cilindros\n",
        "boxplot(mpg ~ cyl, data = mtcars,\n",
        "        xlab = \"Número de cilindros\",\n",
        "        ylab = \"Millas por galón\",\n",
        "        main = \"Consumo de combustible por número de cilindros\")\n",
        "\n",
        "# 3.3 Gráfico de barras para la distribución de gears\n",
        "barplot(table(mtcars$gear),\n",
        "        xlab = \"Número de marchas\",\n",
        "        ylab = \"Frecuencia\",\n",
        "        main = \"Distribución del número de marchas\")\n",
        "\n"
      ]
    },
    {
      "cell_type": "code",
      "execution_count": 26,
      "metadata": {
        "colab": {
          "base_uri": "https://localhost:8080/",
          "height": 161
        },
        "id": "LI-ki8DUpiP6",
        "outputId": "e75fbd72-af2f-4c11-8de9-781a49c8ebf6"
      },
      "outputs": [
        {
          "data": {
            "text/html": [
              "<table class=\"dataframe\">\n",
              "<caption>A matrix: 3 × 3 of type dbl</caption>\n",
              "<thead>\n",
              "\t<tr><th></th><th scope=col>mpg</th><th scope=col>hp</th><th scope=col>wt</th></tr>\n",
              "</thead>\n",
              "<tbody>\n",
              "\t<tr><th scope=row>mpg</th><td> 1.0000000</td><td>-0.7761684</td><td>-0.8676594</td></tr>\n",
              "\t<tr><th scope=row>hp</th><td>-0.7761684</td><td> 1.0000000</td><td> 0.6587479</td></tr>\n",
              "\t<tr><th scope=row>wt</th><td>-0.8676594</td><td> 0.6587479</td><td> 1.0000000</td></tr>\n",
              "</tbody>\n",
              "</table>\n"
            ],
            "text/latex": [
              "A matrix: 3 × 3 of type dbl\n",
              "\\begin{tabular}{r|lll}\n",
              "  & mpg & hp & wt\\\\\n",
              "\\hline\n",
              "\tmpg &  1.0000000 & -0.7761684 & -0.8676594\\\\\n",
              "\thp & -0.7761684 &  1.0000000 &  0.6587479\\\\\n",
              "\twt & -0.8676594 &  0.6587479 &  1.0000000\\\\\n",
              "\\end{tabular}\n"
            ],
            "text/markdown": [
              "\n",
              "A matrix: 3 × 3 of type dbl\n",
              "\n",
              "| <!--/--> | mpg | hp | wt |\n",
              "|---|---|---|---|\n",
              "| mpg |  1.0000000 | -0.7761684 | -0.8676594 |\n",
              "| hp | -0.7761684 |  1.0000000 |  0.6587479 |\n",
              "| wt | -0.8676594 |  0.6587479 |  1.0000000 |\n",
              "\n"
            ],
            "text/plain": [
              "    mpg        hp         wt        \n",
              "mpg  1.0000000 -0.7761684 -0.8676594\n",
              "hp  -0.7761684  1.0000000  0.6587479\n",
              "wt  -0.8676594  0.6587479  1.0000000"
            ]
          },
          "metadata": {},
          "output_type": "display_data"
        }
      ],
      "source": [
        "# 4. Calcular la matriz de correlación\n",
        "cor(mtcars[, c(\"mpg\", \"hp\", \"wt\")])\n",
        "\n"
      ]
    },
    {
      "cell_type": "code",
      "execution_count": 27,
      "metadata": {
        "colab": {
          "base_uri": "https://localhost:8080/",
          "height": 344
        },
        "id": "oYMJaF8MpiSk",
        "outputId": "53096f8a-4e5f-48af-da8e-1bec7f403785"
      },
      "outputs": [
        {
          "data": {
            "text/plain": [
              "\n",
              "Call:\n",
              "lm(formula = mpg ~ hp, data = mtcars)\n",
              "\n",
              "Residuals:\n",
              "    Min      1Q  Median      3Q     Max \n",
              "-5.7121 -2.1122 -0.8854  1.5819  8.2360 \n",
              "\n",
              "Coefficients:\n",
              "            Estimate Std. Error t value Pr(>|t|)    \n",
              "(Intercept) 30.09886    1.63392  18.421  < 2e-16 ***\n",
              "hp          -0.06823    0.01012  -6.742 1.79e-07 ***\n",
              "---\n",
              "Signif. codes:  0 ‘***’ 0.001 ‘**’ 0.01 ‘*’ 0.05 ‘.’ 0.1 ‘ ’ 1\n",
              "\n",
              "Residual standard error: 3.863 on 30 degrees of freedom\n",
              "Multiple R-squared:  0.6024,\tAdjusted R-squared:  0.5892 \n",
              "F-statistic: 45.46 on 1 and 30 DF,  p-value: 1.788e-07\n"
            ]
          },
          "metadata": {},
          "output_type": "display_data"
        }
      ],
      "source": [
        "# 5. Modelo de regresión lineal\n",
        "modelo <- lm(mpg ~ hp, data = mtcars)\n",
        "summary(modelo)\n",
        "\n"
      ]
    },
    {
      "cell_type": "code",
      "execution_count": 28,
      "metadata": {
        "colab": {
          "base_uri": "https://localhost:8080/",
          "height": 437
        },
        "id": "aDdKSqK8piU_",
        "outputId": "3ea1d24e-c940-4fb3-c704-f70e95e4bc51"
      },
      "outputs": [
        {
          "data": {
            "image/png": "[encoded data removed]",
            "text/plain": [
              "Plot with title “Regresión lineal: mpg vs hp”"
            ]
          },
          "metadata": {
            "image/png": {
              "height": 420,
              "width": 420
            }
          },
          "output_type": "display_data"
        }
      ],
      "source": [
        "# Gráfico de la regresión\n",
        "plot(mtcars$hp, mtcars$mpg,\n",
        "     xlab = \"Caballos de fuerza (hp)\",\n",
        "     ylab = \"Millas por galón (mpg)\",\n",
        "     main = \"Regresión lineal: mpg vs hp\")\n",
        "abline(modelo, col = \"red\")"
      ]
    }
  ],
  "metadata": {
    "colab": {
      "provenance": []
    },
    "kernelspec": {
      "display_name": "Python 3",
      "language": "python",
      "name": "python3"
    },
    "language_info": {
      "codemirror_mode": {
        "name": "ipython",
        "version": 3
      },
      "file_extension": ".py",
      "mimetype": "text/x-python",
      "name": "python",
      "nbconvert_exporter": "python",
      "pygments_lexer": "ipython3",
      "version": "3.9.6"
    }
  },
  "nbformat": 4,
  "nbformat_minor": 0
}
