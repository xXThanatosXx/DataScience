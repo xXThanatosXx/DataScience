{
  "nbformat": 4,
  "nbformat_minor": 0,
  "metadata": {
    "colab": {
      "provenance": []
    },
    "kernelspec": {
      "name": "python3",
      "display_name": "Python 3"
    },
    "language_info": {
      "name": "python"
    }
  },
  "cells": [
    {
      "cell_type": "code",
      "source": [
        "!pip install pandas xlsxwriter\n"
      ],
      "metadata": {
        "colab": {
          "base_uri": "https://localhost:8080/"
        },
        "id": "lkN13vYpgsxn",
        "outputId": "9d04fcc5-a5c5-4ba7-fd69-fc8a8d544140"
      },
      "execution_count": 2,
      "outputs": [
        {
          "output_type": "stream",
          "name": "stdout",
          "text": [
            "Requirement already satisfied: pandas in /usr/local/lib/python3.10/dist-packages (2.1.4)\n",
            "Collecting xlsxwriter\n",
            "  Downloading XlsxWriter-3.2.0-py3-none-any.whl.metadata (2.6 kB)\n",
            "Requirement already satisfied: numpy<2,>=1.22.4 in /usr/local/lib/python3.10/dist-packages (from pandas) (1.26.4)\n",
            "Requirement already satisfied: python-dateutil>=2.8.2 in /usr/local/lib/python3.10/dist-packages (from pandas) (2.8.2)\n",
            "Requirement already satisfied: pytz>=2020.1 in /usr/local/lib/python3.10/dist-packages (from pandas) (2024.1)\n",
            "Requirement already satisfied: tzdata>=2022.1 in /usr/local/lib/python3.10/dist-packages (from pandas) (2024.1)\n",
            "Requirement already satisfied: six>=1.5 in /usr/local/lib/python3.10/dist-packages (from python-dateutil>=2.8.2->pandas) (1.16.0)\n",
            "Downloading XlsxWriter-3.2.0-py3-none-any.whl (159 kB)\n",
            "\u001b[2K   \u001b[90m━━━━━━━━━━━━━━━━━━━━━━━━━━━━━━━━━━━━━━━━\u001b[0m \u001b[32m159.9/159.9 kB\u001b[0m \u001b[31m4.1 MB/s\u001b[0m eta \u001b[36m0:00:00\u001b[0m\n",
            "\u001b[?25hInstalling collected packages: xlsxwriter\n",
            "Successfully installed xlsxwriter-3.2.0\n"
          ]
        }
      ]
    },
    {
      "cell_type": "code",
      "execution_count": 8,
      "metadata": {
        "colab": {
          "base_uri": "https://localhost:8080/"
        },
        "id": "Qed9FgisgAo-",
        "outputId": "6577ce7f-fb00-4310-ecee-1b1d688dff44"
      },
      "outputs": [
        {
          "output_type": "stream",
          "name": "stdout",
          "text": [
            "Drive already mounted at /content/drive; to attempt to forcibly remount, call drive.mount(\"/content/drive\", force_remount=True).\n",
            "Error procesando el archivo archivo_combinado.xlsx: File is not a zip file\n",
            "Archivos combinados exitosamente en /content/drive/MyDrive/Combustibles/archivo_combinado.xlsx\n"
          ]
        }
      ],
      "source": [
        "import pandas as pd\n",
        "import os\n",
        "\n",
        "# Montar Google Drive\n",
        "from google.colab import drive\n",
        "drive.mount('/content/drive')\n",
        "\n",
        "# Directorio donde se encuentran los archivos de Excel en Google Drive\n",
        "directorio = '/content/drive/MyDrive/Combustibles/'\n",
        "\n",
        "# Nombre del archivo final que contendrá todas las hojas\n",
        "archivo_final = '/content/drive/MyDrive/Combustibles/archivo_combinado.xlsx'\n",
        "\n",
        "\n",
        "\n",
        "# Crea un objeto de ExcelWriter para escribir en múltiples hojas\n",
        "with pd.ExcelWriter(archivo_final, engine='xlsxwriter') as writer:\n",
        "    # Recorre cada archivo en el directorio\n",
        "    for archivo in os.listdir(directorio):\n",
        "        try:\n",
        "            if archivo.endswith('.xlsx'):\n",
        "                # Lee el archivo .xlsx utilizando el motor openpyxl\n",
        "                df = pd.read_excel(os.path.join(directorio, archivo), engine='openpyxl')\n",
        "            elif archivo.endswith('.xls'):\n",
        "                # Lee el archivo .xls utilizando el motor xlrd\n",
        "                df = pd.read_excel(os.path.join(directorio, archivo), engine='xlrd')\n",
        "            else:\n",
        "                continue  # Si el archivo no es Excel, saltarlo\n",
        "\n",
        "            # Usa el nombre del archivo sin extensión como el nombre de la hoja\n",
        "            nombre_hoja = os.path.splitext(archivo)[0]\n",
        "            # Limita el nombre de la hoja a 31 caracteres\n",
        "            nombre_hoja = nombre_hoja[:31]\n",
        "            # Escribe los datos en una nueva hoja en el archivo combinado\n",
        "            df.to_excel(writer, sheet_name=nombre_hoja, index=False)\n",
        "\n",
        "        except Exception as e:\n",
        "            # Muestra un mensaje si hay algún problema con el archivo\n",
        "            print(f\"Error procesando el archivo {archivo}: {e}\")\n",
        "            continue\n",
        "\n",
        "print(f\"Archivos combinados exitosamente en {archivo_final}\")"
      ]
    },
    {
      "cell_type": "code",
      "source": [
        "import pandas as pd\n",
        "from google.colab import drive\n",
        "\n",
        "# Montar Google Drive\n",
        "drive.mount('/content/drive/')\n",
        "\n",
        "# Ruta del archivo de Excel en Google Drive\n",
        "file_path = '/content/drive/MyDrive/Combustibles/archivo_combinado.xlsx'\n",
        "\n",
        "# Cargar todas las hojas del archivo de Excel en un diccionario\n",
        "excel_data = pd.read_excel(file_path, sheet_name=None)\n",
        "\n",
        "# Proceso de limpieza de la hoja \"Estructura_Precios_Septiembre_2\"\n",
        "sheet_name = 'Estructura_Precios_Septiembre_2'\n",
        "df = excel_data[sheet_name]\n",
        "\n",
        "# Seleccionar la primera columna (productos) y la segunda columna (precios)\n",
        "cleaned_df = df.iloc[:, [0, 1]]\n",
        "\n",
        "# Renombrar las columnas para mayor claridad\n",
        "cleaned_df.columns = ['Producto', 'Precio']\n",
        "\n",
        "# Eliminar filas que no tengan datos numéricos en la columna de precios\n",
        "cleaned_df = cleaned_df.dropna(subset=['Precio'])\n",
        "\n",
        "# Convertir la columna de precios a numérica\n",
        "cleaned_df['Precio'] = pd.to_numeric(cleaned_df['Precio'], errors='coerce')\n",
        "\n",
        "# Calcular estadísticas descriptivas\n",
        "cleaned_df_stats = cleaned_df['Precio'].describe()\n",
        "\n",
        "# Mostrar las estadísticas descriptivas calculadas\n",
        "print(cleaned_df_stats)\n"
      ],
      "metadata": {
        "colab": {
          "base_uri": "https://localhost:8080/"
        },
        "id": "_GDZEBtNgpKj",
        "outputId": "a74562ce-a30c-44c8-8672-299944750b3a"
      },
      "execution_count": 9,
      "outputs": [
        {
          "output_type": "stream",
          "name": "stdout",
          "text": [
            "Drive already mounted at /content/drive/; to attempt to forcibly remount, call drive.mount(\"/content/drive/\", force_remount=True).\n",
            "count      55.000000\n",
            "mean     2001.602232\n",
            "std      3043.269180\n",
            "min         0.000000\n",
            "25%        34.436644\n",
            "50%       301.475400\n",
            "75%      4783.245000\n",
            "max      9906.860000\n",
            "Name: Precio, dtype: float64\n"
          ]
        }
      ]
    },
    {
      "cell_type": "code",
      "source": [
        "import pandas as pd\n",
        "from google.colab import drive\n",
        "\n",
        "# Montar Google Drive\n",
        "drive.mount('/content/drive')\n",
        "\n",
        "# Ruta del archivo de Excel en Google Drive\n",
        "file_path = '/content/drive/MyDrive/Combustibles/archivo_combinado.xlsx'\n",
        "\n",
        "# Cargar todas las hojas del archivo de Excel en un diccionario\n",
        "excel_data = pd.read_excel(file_path, sheet_name=None)\n",
        "\n",
        "# Proceso de limpieza de la hoja \"Estructura_Precios_Septiembre_2\"\n",
        "sheet_name = 'Estructura_Precios_Septiembre_2'\n",
        "df = excel_data[sheet_name]\n",
        "\n",
        "# Seleccionar la primera columna (productos) y la segunda columna (precios)\n",
        "cleaned_df = df.iloc[:, [0, 1]]\n",
        "\n",
        "# Renombrar las columnas para mayor claridad\n",
        "cleaned_df.columns = ['Producto', 'Precio']\n",
        "\n",
        "# Eliminar filas que no tengan datos numéricos en la columna de precios\n",
        "cleaned_df = cleaned_df.dropna(subset=['Precio'])\n",
        "\n",
        "# Convertir la columna de precios a numérica\n",
        "cleaned_df['Precio'] = pd.to_numeric(cleaned_df['Precio'], errors='coerce')\n",
        "\n",
        "# Calcular estadísticas descriptivas\n",
        "cleaned_df_stats = cleaned_df['Precio'].describe()\n",
        "\n",
        "# Mostrar las estadísticas descriptivas calculadas\n",
        "print(cleaned_df_stats)\n",
        "\n",
        "# Guardar los datos limpios en un nuevo archivo Excel en Google Drive\n",
        "cleaned_file_path = '/content/drive/MyDrive/Combustibles/archivo_datos_limpios.xlsx'\n",
        "cleaned_df.to_excel(cleaned_file_path, index=False)\n",
        "\n",
        "print(f\"Datos limpios guardados en: {cleaned_file_path}\")\n"
      ],
      "metadata": {
        "colab": {
          "base_uri": "https://localhost:8080/"
        },
        "id": "HySms-ZqnlJ2",
        "outputId": "88287f6c-0e96-407d-8b84-0f796d746751"
      },
      "execution_count": 10,
      "outputs": [
        {
          "output_type": "stream",
          "name": "stdout",
          "text": [
            "Drive already mounted at /content/drive; to attempt to forcibly remount, call drive.mount(\"/content/drive\", force_remount=True).\n",
            "count      55.000000\n",
            "mean     2001.602232\n",
            "std      3043.269180\n",
            "min         0.000000\n",
            "25%        34.436644\n",
            "50%       301.475400\n",
            "75%      4783.245000\n",
            "max      9906.860000\n",
            "Name: Precio, dtype: float64\n",
            "Datos limpios guardados en: /content/drive/MyDrive/Combustibles/archivo_datos_limpios.xlsx\n"
          ]
        }
      ]
    },
    {
      "cell_type": "code",
      "source": [
        "import pandas as pd\n",
        "from google.colab import drive\n",
        "\n",
        "# Montar Google Drive\n",
        "drive.mount('/content/drive')\n",
        "\n",
        "# Ruta del archivo de Excel en Google Drive\n",
        "file_path = '/content/drive/MyDrive/Combustibles/archivo_combinado.xlsx'\n",
        "\n",
        "# Cargar todas las hojas del archivo de Excel en un diccionario\n",
        "excel_data = pd.read_excel(file_path, sheet_name=None)\n",
        "\n",
        "# Crear un diccionario para almacenar los DataFrames limpios\n",
        "cleaned_data = {}\n",
        "\n",
        "# Limpiar cada hoja\n",
        "for sheet_name, df in excel_data.items():\n",
        "    # Seleccionar la primera columna (productos) y la segunda columna (precios) si existen\n",
        "    if df.shape[1] >= 2:  # Asegurarse de que haya al menos dos columnas\n",
        "        cleaned_df = df.iloc[:, [0, 1]]\n",
        "\n",
        "        # Renombrar las columnas para mayor claridad\n",
        "        cleaned_df.columns = ['Producto', 'Precio']\n",
        "\n",
        "        # Eliminar filas que no tengan datos numéricos en la columna de precios\n",
        "        cleaned_df = cleaned_df.dropna(subset=['Precio'])\n",
        "\n",
        "        # Convertir la columna de precios a numérica\n",
        "        cleaned_df['Precio'] = pd.to_numeric(cleaned_df['Precio'], errors='coerce')\n",
        "\n",
        "        # Guardar el DataFrame limpio en el diccionario\n",
        "        cleaned_data[sheet_name] = cleaned_df\n",
        "\n",
        "# Ruta para guardar el archivo limpio\n",
        "cleaned_file_path = '/content/drive/MyDrive/Combustibles/archivo_datos_limpios_todas_hojas.xlsx'\n",
        "\n",
        "# Guardar todas las hojas limpias en un nuevo archivo Excel\n",
        "with pd.ExcelWriter(cleaned_file_path, engine='xlsxwriter') as writer:\n",
        "    for sheet_name, cleaned_df in cleaned_data.items():\n",
        "        cleaned_df.to_excel(writer, sheet_name=sheet_name, index=False)\n",
        "\n",
        "print(f\"Archivo con datos limpios guardado en: {cleaned_file_path}\")\n"
      ],
      "metadata": {
        "colab": {
          "base_uri": "https://localhost:8080/"
        },
        "id": "H_YyKdoRoNCN",
        "outputId": "e9082661-12df-488b-bf5e-96defea48133"
      },
      "execution_count": 11,
      "outputs": [
        {
          "output_type": "stream",
          "name": "stdout",
          "text": [
            "Drive already mounted at /content/drive; to attempt to forcibly remount, call drive.mount(\"/content/drive\", force_remount=True).\n",
            "Archivo con datos limpios guardado en: /content/drive/MyDrive/Combustibles/archivo_datos_limpios_todas_hojas.xlsx\n"
          ]
        }
      ]
    }
  ]
}