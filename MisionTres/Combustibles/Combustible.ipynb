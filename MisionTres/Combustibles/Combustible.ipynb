{
  "nbformat": 4,
  "nbformat_minor": 0,
  "metadata": {
    "colab": {
      "provenance": []
    },
    "kernelspec": {
      "name": "python3",
      "display_name": "Python 3"
    },
    "language_info": {
      "name": "python"
    }
  },
  "cells": [
    {
      "cell_type": "code",
      "execution_count": 4,
      "metadata": {
        "colab": {
          "base_uri": "https://localhost:8080/",
          "height": 90
        },
        "id": "P120-TTBOVAL",
        "outputId": "e94d612d-0af8-4ca1-b7dc-08e3522610ab"
      },
      "outputs": [
        {
          "output_type": "display_data",
          "data": {
            "text/plain": [
              "<IPython.core.display.HTML object>"
            ],
            "text/html": [
              "\n",
              "     <input type=\"file\" id=\"files-fc08893a-22a3-4e2d-b0ba-8871560fc309\" name=\"files[]\" multiple disabled\n",
              "        style=\"border:none\" />\n",
              "     <output id=\"result-fc08893a-22a3-4e2d-b0ba-8871560fc309\">\n",
              "      Upload widget is only available when the cell has been executed in the\n",
              "      current browser session. Please rerun this cell to enable.\n",
              "      </output>\n",
              "      <script>// Copyright 2017 Google LLC\n",
              "//\n",
              "// Licensed under the Apache License, Version 2.0 (the \"License\");\n",
              "// you may not use this file except in compliance with the License.\n",
              "// You may obtain a copy of the License at\n",
              "//\n",
              "//      http://www.apache.org/licenses/LICENSE-2.0\n",
              "//\n",
              "// Unless required by applicable law or agreed to in writing, software\n",
              "// distributed under the License is distributed on an \"AS IS\" BASIS,\n",
              "// WITHOUT WARRANTIES OR CONDITIONS OF ANY KIND, either express or implied.\n",
              "// See the License for the specific language governing permissions and\n",
              "// limitations under the License.\n",
              "\n",
              "/**\n",
              " * @fileoverview Helpers for google.colab Python module.\n",
              " */\n",
              "(function(scope) {\n",
              "function span(text, styleAttributes = {}) {\n",
              "  const element = document.createElement('span');\n",
              "  element.textContent = text;\n",
              "  for (const key of Object.keys(styleAttributes)) {\n",
              "    element.style[key] = styleAttributes[key];\n",
              "  }\n",
              "  return element;\n",
              "}\n",
              "\n",
              "// Max number of bytes which will be uploaded at a time.\n",
              "const MAX_PAYLOAD_SIZE = 100 * 1024;\n",
              "\n",
              "function _uploadFiles(inputId, outputId) {\n",
              "  const steps = uploadFilesStep(inputId, outputId);\n",
              "  const outputElement = document.getElementById(outputId);\n",
              "  // Cache steps on the outputElement to make it available for the next call\n",
              "  // to uploadFilesContinue from Python.\n",
              "  outputElement.steps = steps;\n",
              "\n",
              "  return _uploadFilesContinue(outputId);\n",
              "}\n",
              "\n",
              "// This is roughly an async generator (not supported in the browser yet),\n",
              "// where there are multiple asynchronous steps and the Python side is going\n",
              "// to poll for completion of each step.\n",
              "// This uses a Promise to block the python side on completion of each step,\n",
              "// then passes the result of the previous step as the input to the next step.\n",
              "function _uploadFilesContinue(outputId) {\n",
              "  const outputElement = document.getElementById(outputId);\n",
              "  const steps = outputElement.steps;\n",
              "\n",
              "  const next = steps.next(outputElement.lastPromiseValue);\n",
              "  return Promise.resolve(next.value.promise).then((value) => {\n",
              "    // Cache the last promise value to make it available to the next\n",
              "    // step of the generator.\n",
              "    outputElement.lastPromiseValue = value;\n",
              "    return next.value.response;\n",
              "  });\n",
              "}\n",
              "\n",
              "/**\n",
              " * Generator function which is called between each async step of the upload\n",
              " * process.\n",
              " * @param {string} inputId Element ID of the input file picker element.\n",
              " * @param {string} outputId Element ID of the output display.\n",
              " * @return {!Iterable<!Object>} Iterable of next steps.\n",
              " */\n",
              "function* uploadFilesStep(inputId, outputId) {\n",
              "  const inputElement = document.getElementById(inputId);\n",
              "  inputElement.disabled = false;\n",
              "\n",
              "  const outputElement = document.getElementById(outputId);\n",
              "  outputElement.innerHTML = '';\n",
              "\n",
              "  const pickedPromise = new Promise((resolve) => {\n",
              "    inputElement.addEventListener('change', (e) => {\n",
              "      resolve(e.target.files);\n",
              "    });\n",
              "  });\n",
              "\n",
              "  const cancel = document.createElement('button');\n",
              "  inputElement.parentElement.appendChild(cancel);\n",
              "  cancel.textContent = 'Cancel upload';\n",
              "  const cancelPromise = new Promise((resolve) => {\n",
              "    cancel.onclick = () => {\n",
              "      resolve(null);\n",
              "    };\n",
              "  });\n",
              "\n",
              "  // Wait for the user to pick the files.\n",
              "  const files = yield {\n",
              "    promise: Promise.race([pickedPromise, cancelPromise]),\n",
              "    response: {\n",
              "      action: 'starting',\n",
              "    }\n",
              "  };\n",
              "\n",
              "  cancel.remove();\n",
              "\n",
              "  // Disable the input element since further picks are not allowed.\n",
              "  inputElement.disabled = true;\n",
              "\n",
              "  if (!files) {\n",
              "    return {\n",
              "      response: {\n",
              "        action: 'complete',\n",
              "      }\n",
              "    };\n",
              "  }\n",
              "\n",
              "  for (const file of files) {\n",
              "    const li = document.createElement('li');\n",
              "    li.append(span(file.name, {fontWeight: 'bold'}));\n",
              "    li.append(span(\n",
              "        `(${file.type || 'n/a'}) - ${file.size} bytes, ` +\n",
              "        `last modified: ${\n",
              "            file.lastModifiedDate ? file.lastModifiedDate.toLocaleDateString() :\n",
              "                                    'n/a'} - `));\n",
              "    const percent = span('0% done');\n",
              "    li.appendChild(percent);\n",
              "\n",
              "    outputElement.appendChild(li);\n",
              "\n",
              "    const fileDataPromise = new Promise((resolve) => {\n",
              "      const reader = new FileReader();\n",
              "      reader.onload = (e) => {\n",
              "        resolve(e.target.result);\n",
              "      };\n",
              "      reader.readAsArrayBuffer(file);\n",
              "    });\n",
              "    // Wait for the data to be ready.\n",
              "    let fileData = yield {\n",
              "      promise: fileDataPromise,\n",
              "      response: {\n",
              "        action: 'continue',\n",
              "      }\n",
              "    };\n",
              "\n",
              "    // Use a chunked sending to avoid message size limits. See b/62115660.\n",
              "    let position = 0;\n",
              "    do {\n",
              "      const length = Math.min(fileData.byteLength - position, MAX_PAYLOAD_SIZE);\n",
              "      const chunk = new Uint8Array(fileData, position, length);\n",
              "      position += length;\n",
              "\n",
              "      const base64 = btoa(String.fromCharCode.apply(null, chunk));\n",
              "      yield {\n",
              "        response: {\n",
              "          action: 'append',\n",
              "          file: file.name,\n",
              "          data: base64,\n",
              "        },\n",
              "      };\n",
              "\n",
              "      let percentDone = fileData.byteLength === 0 ?\n",
              "          100 :\n",
              "          Math.round((position / fileData.byteLength) * 100);\n",
              "      percent.textContent = `${percentDone}% done`;\n",
              "\n",
              "    } while (position < fileData.byteLength);\n",
              "  }\n",
              "\n",
              "  // All done.\n",
              "  yield {\n",
              "    response: {\n",
              "      action: 'complete',\n",
              "    }\n",
              "  };\n",
              "}\n",
              "\n",
              "scope.google = scope.google || {};\n",
              "scope.google.colab = scope.google.colab || {};\n",
              "scope.google.colab._files = {\n",
              "  _uploadFiles,\n",
              "  _uploadFilesContinue,\n",
              "};\n",
              "})(self);\n",
              "</script> "
            ]
          },
          "metadata": {}
        },
        {
          "output_type": "stream",
          "name": "stdout",
          "text": [
            "Saving Estructura_Precios_Septiembre_2018.xlsx to Estructura_Precios_Septiembre_2018 (2).xlsx\n",
            "['$ REF_SEPTIEMBRE_2018 ']\n"
          ]
        }
      ],
      "source": [
        "import pandas as pd\n",
        "from google.colab import files\n",
        "\n",
        "# Subir archivo desde tu computadora\n",
        "uploaded = files.upload()\n",
        "\n",
        "# Asumiendo que el archivo subido se llama 'Estructura_Precios_Septiembre_2018.xlsx'\n",
        "file_path = 'Estructura_Precios_Septiembre_2018.xlsx'\n",
        "# Ver las hojas disponibles en el archivo Excel\n",
        "excel_file = pd.ExcelFile(file_path)\n",
        "print(excel_file.sheet_names)\n",
        "\n"
      ]
    },
    {
      "cell_type": "code",
      "source": [
        "# Cargar el archivo Excel con el nombre exacto de la hoja\n",
        "data = pd.read_excel(file_path, sheet_name='$ REF_SEPTIEMBRE_2018 ', skiprows=2)\n",
        "\n"
      ],
      "metadata": {
        "id": "yzyISgIAQPpx"
      },
      "execution_count": 7,
      "outputs": []
    },
    {
      "cell_type": "code",
      "source": [
        "# # Limpiar los datos\n",
        "data_cleaned = data.dropna(axis=1, how='all')\n",
        "data_cleaned = data_cleaned[['$/galón', 'Unnamed: 1']]\n",
        "data_cleaned.columns = ['Fuel Type', 'Price ($/galón)']\n",
        "data_cleaned = data_cleaned.dropna()"
      ],
      "metadata": {
        "id": "PGqUrN8wQqpE"
      },
      "execution_count": 8,
      "outputs": []
    },
    {
      "cell_type": "code",
      "source": [
        "# # Convertir la columna de precios a tipo numérico\n",
        "data_cleaned['Price ($/galón)'] = pd.to_numeric(data_cleaned['Price ($/galón)'], errors='coerce')"
      ],
      "metadata": {
        "id": "304SYyJ2Qu3X"
      },
      "execution_count": 9,
      "outputs": []
    },
    {
      "cell_type": "code",
      "source": [
        "# # Mostrar los primeros resultados\n",
        "print(\"Datos Limpiados:\")\n",
        "print(data_cleaned.head())"
      ],
      "metadata": {
        "colab": {
          "base_uri": "https://localhost:8080/"
        },
        "id": "4qqUx9MIQxYg",
        "outputId": "8f2e93d0-db8e-4099-ca95-98b4fb8a19ec"
      },
      "execution_count": 10,
      "outputs": [
        {
          "output_type": "stream",
          "name": "stdout",
          "text": [
            "Datos Limpiados:\n",
            "                                           Fuel Type  Price ($/galón)\n",
            "0   IP GASOLINA MOTOR CORRIENTE (incluye oxigenadas)          4800.96\n",
            "1                       IP ACPM (incluye oxigenados)          4765.53\n",
            "2                              IP ALCOHOL CARBURANTE          6992.23\n",
            "3                                       IP BIODIESEL          9906.86\n",
            "5  IMPUESTO NACIONAL. BASE GRAVABLE Y TARIFA DEL ...              NaN\n"
          ]
        }
      ]
    },
    {
      "cell_type": "code",
      "source": [
        "# Análisis estadístico\n",
        "stats = {\n",
        "    'Media (Promedio)': data_cleaned['Price ($/galón)'].mean(),\n",
        "    'Mediana': data_cleaned['Price ($/galón)'].median(),\n",
        "    'Moda': data_cleaned['Price ($/galón)'].mode()[0],\n",
        "    'Desviación Estándar': data_cleaned['Price ($/galón)'].std(),\n",
        "    'Varianza': data_cleaned['Price ($/galón)'].var(),\n",
        "    'Rango': data_cleaned['Price ($/galón)'].max() - data_cleaned['Price ($/galón)'].min(),\n",
        "    'Valor Mínimo': data_cleaned['Price ($/galón)'].min(),\n",
        "    'Valor Máximo': data_cleaned['Price ($/galón)'].max(),\n",
        "    'Percentil 25': data_cleaned['Price ($/galón)'].quantile(0.25),\n",
        "    'Percentil 50 (Mediana)': data_cleaned['Price ($/galón)'].quantile(0.50),\n",
        "    'Percentil 75': data_cleaned['Price ($/galón)'].quantile(0.75)\n",
        "}"
      ],
      "metadata": {
        "id": "TCwZsZPKRbc9"
      },
      "execution_count": 12,
      "outputs": []
    },
    {
      "cell_type": "code",
      "source": [
        "# Mostrar el análisis estadístico\n",
        "print(\"Análisis Estadístico:\")\n",
        "for key, value in stats.items():\n",
        "    print(f\"{key}: {value:.2f}\")\n"
      ],
      "metadata": {
        "colab": {
          "base_uri": "https://localhost:8080/"
        },
        "id": "8ratT6UWRfSG",
        "outputId": "a75f7eb1-3434-4f78-ddbf-03865c172704"
      },
      "execution_count": 13,
      "outputs": [
        {
          "output_type": "stream",
          "name": "stdout",
          "text": [
            "Análisis Estadístico:\n",
            "Media (Promedio): 2001.60\n",
            "Mediana: 301.48\n",
            "Moda: 0.10\n",
            "Desviación Estándar: 3043.27\n",
            "Varianza: 9261487.30\n",
            "Rango: 9906.86\n",
            "Valor Mínimo: 0.00\n",
            "Valor Máximo: 9906.86\n",
            "Percentil 25: 34.44\n",
            "Percentil 50 (Mediana): 301.48\n",
            "Percentil 75: 4783.24\n"
          ]
        }
      ]
    },
    {
      "cell_type": "code",
      "source": [
        "\n",
        "\n",
        "# # Calcular el precio promedio\n",
        "average_price = data_cleaned['Price ($/galón)'].mean()\n",
        "print(f'\\nPrecio Promedio de Combustibles ($/galón): {average_price}')\n",
        "\n",
        "# # Descargar el archivo limpio en tu computadora\n",
        "data_cleaned.to_csv('Cleaned_Fuel_Prices_Sept_2018.csv', index=False)\n",
        "files.download('Cleaned_Fuel_Prices_Sept_2018.csv')"
      ],
      "metadata": {
        "colab": {
          "base_uri": "https://localhost:8080/",
          "height": 52
        },
        "id": "pAqs7ul6QRl4",
        "outputId": "e9a5000e-053c-43b4-9df5-44a7e29fb44a"
      },
      "execution_count": 11,
      "outputs": [
        {
          "output_type": "stream",
          "name": "stdout",
          "text": [
            "\n",
            "Precio Promedio de Combustibles ($/galón): 2001.6022319060287\n"
          ]
        },
        {
          "output_type": "display_data",
          "data": {
            "text/plain": [
              "<IPython.core.display.Javascript object>"
            ],
            "application/javascript": [
              "\n",
              "    async function download(id, filename, size) {\n",
              "      if (!google.colab.kernel.accessAllowed) {\n",
              "        return;\n",
              "      }\n",
              "      const div = document.createElement('div');\n",
              "      const label = document.createElement('label');\n",
              "      label.textContent = `Downloading \"${filename}\": `;\n",
              "      div.appendChild(label);\n",
              "      const progress = document.createElement('progress');\n",
              "      progress.max = size;\n",
              "      div.appendChild(progress);\n",
              "      document.body.appendChild(div);\n",
              "\n",
              "      const buffers = [];\n",
              "      let downloaded = 0;\n",
              "\n",
              "      const channel = await google.colab.kernel.comms.open(id);\n",
              "      // Send a message to notify the kernel that we're ready.\n",
              "      channel.send({})\n",
              "\n",
              "      for await (const message of channel.messages) {\n",
              "        // Send a message to notify the kernel that we're ready.\n",
              "        channel.send({})\n",
              "        if (message.buffers) {\n",
              "          for (const buffer of message.buffers) {\n",
              "            buffers.push(buffer);\n",
              "            downloaded += buffer.byteLength;\n",
              "            progress.value = downloaded;\n",
              "          }\n",
              "        }\n",
              "      }\n",
              "      const blob = new Blob(buffers, {type: 'application/binary'});\n",
              "      const a = document.createElement('a');\n",
              "      a.href = window.URL.createObjectURL(blob);\n",
              "      a.download = filename;\n",
              "      div.appendChild(a);\n",
              "      a.click();\n",
              "      div.remove();\n",
              "    }\n",
              "  "
            ]
          },
          "metadata": {}
        },
        {
          "output_type": "display_data",
          "data": {
            "text/plain": [
              "<IPython.core.display.Javascript object>"
            ],
            "application/javascript": [
              "download(\"download_4319920e-510d-4016-8f3a-b30fb59152c3\", \"Cleaned_Fuel_Prices_Sept_2018.csv\", 2100)"
            ]
          },
          "metadata": {}
        }
      ]
    },
    {
      "cell_type": "code",
      "source": [
        "import pandas as pd\n",
        "import matplotlib.pyplot as plt\n",
        "\n",
        "# Simulación de los resultados del análisis estadístico\n",
        "stats = {\n",
        "    'Media': 3.75,\n",
        "    'Mediana': 3.60,\n",
        "    'Moda': 3.50,\n",
        "    'Desviación Estándar': 0.25,\n",
        "    'Varianza': 0.06,\n",
        "    'Rango': 0.80,\n",
        "    'Valor Mínimo': 3.30,\n",
        "    'Valor Máximo': 4.10,\n",
        "    'Percentil 25': 3.40,\n",
        "    'Percentil 50 (Mediana)': 3.60,\n",
        "    'Percentil 75': 3.90\n",
        "}\n",
        "\n",
        "# Convertir el diccionario a un DataFrame para facilitar la visualización\n",
        "stats_df = pd.DataFrame(list(stats.items()), columns=['Estadística', 'Valor'])\n",
        "\n",
        "# Crear la gráfica de barras\n",
        "plt.figure(figsize=(10, 6))\n",
        "plt.barh(stats_df['Estadística'], stats_df['Valor'], color='skyblue')\n",
        "plt.xlabel('Valor')\n",
        "plt.title('Análisis Estadístico de los Precios de Combustibles')\n",
        "plt.grid(True)\n",
        "\n",
        "# Mostrar la gráfica\n",
        "plt.tight_layout()\n",
        "plt.show()\n"
      ],
      "metadata": {
        "colab": {
          "base_uri": "https://localhost:8080/",
          "height": 607
        },
        "id": "VSTbGyrjRiDW",
        "outputId": "c4e58797-0dc7-4fc5-a429-17dff4e2c34f"
      },
      "execution_count": 14,
      "outputs": [
        {
          "output_type": "display_data",
          "data": {
            "text/plain": [
              "<Figure size 1000x600 with 1 Axes>"
            ],
            "image/png": "[encoded data removed]"
          },
          "metadata": {}
        }
      ]
    },
    {
      "cell_type": "code",
      "source": [],
      "metadata": {
        "colab": {
          "base_uri": "https://localhost:8080/",
          "height": 545
        },
        "id": "0dXgZTkISnlX",
        "outputId": "4cb91016-c0e6-457e-dea6-5a1c449dd478"
      },
      "execution_count": 15,
      "outputs": [
        {
          "output_type": "display_data",
          "data": {
            "text/plain": [
              "<Figure size 800x600 with 1 Axes>"
            ],
            "image/png": "[encoded data removed]"
          },
          "metadata": {}
        }
      ]
    }
  ]
}