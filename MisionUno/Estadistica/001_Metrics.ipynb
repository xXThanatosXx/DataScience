{
 "cells": [
  {
   "cell_type": "markdown",
   "metadata": {},
   "source": [
    "## Medidas de Tendencia Central: (Media, Mediana, Moda)"
   ]
  },
  {
   "cell_type": "markdown",
   "metadata": {},
   "source": [
    "- Media (Promedio): Es la suma de todos los valores dividida por el número total de valores. Representa el valor central de un conjunto de datos.\n",
    "- Mediana: Es el valor que se encuentra en el centro de un conjunto de datos ordenado. Si el número de observaciones es par, se toma la media de los dos valores centrales.\n",
    "- Moda: Es el valor que aparece con mayor frecuencia en un conjunto de datos. Puede haber más de una moda si varios valores tienen la misma frecuencia máxima."
   ]
  },
  {
   "cell_type": "code",
   "execution_count": 3,
   "metadata": {},
   "outputs": [
    {
     "name": "stdout",
     "output_type": "stream",
     "text": [
      "Media: 9.2\n",
      "Mediana: 10.0\n",
      "Moda: 10\n"
     ]
    },
    {
     "data": {
      "image/png": "[encoded data removed]",
      "text/plain": [
       "<Figure size 432x288 with 1 Axes>"
      ]
     },
     "metadata": {
      "needs_background": "light"
     },
     "output_type": "display_data"
    }
   ],
   "source": [
    "import numpy as np\n",
    "import scipy.stats as stats\n",
    "import matplotlib.pyplot as plt\n",
    "\n",
    "# Datos de ejemplo\n",
    "data = np.array([2, 3, 5, 7, 7, 8, 9, 10, 10, 10, 11, 13, 13, 14, 16])\n",
    "\n",
    "# Cálculos\n",
    "media = np.mean(data)\n",
    "mediana = np.median(data)\n",
    "moda = stats.mode(data, keepdims=True).mode[0] \n",
    "\n",
    "print(f\"Media: {media}\")\n",
    "print(f\"Mediana: {mediana}\")\n",
    "print(f\"Moda: {moda}\")\n",
    "\n",
    "# Visualización\n",
    "plt.hist(data, bins=range(2, 18), alpha=0.7, color='blue', edgecolor='black')\n",
    "plt.axvline(media, color='red', linestyle='dashed', linewidth=1, label=f'Media = {media}')\n",
    "plt.axvline(mediana, color='green', linestyle='dashed', linewidth=1, label=f'Mediana = {mediana}')\n",
    "plt.axvline(moda, color='orange', linestyle='dashed', linewidth=1, label=f'Moda = {moda}')\n",
    "plt.legend()\n",
    "plt.title('Histograma con Media, Mediana y Moda')\n",
    "plt.xlabel('Valor')\n",
    "plt.ylabel('Frecuencia')\n",
    "plt.show()\n"
   ]
  },
  {
   "cell_type": "markdown",
   "metadata": {},
   "source": [
    "#### Análisis del Resultado:\n",
    "- Moda (10):\n",
    "\n",
    "La moda es el valor que aparece con mayor frecuencia en el conjunto de datos. En este caso, el valor 10 es el que más se repite, con una frecuencia de 3, como se muestra en la barra más alta del histograma. Es importante notar que la moda es una medida que refleja el valor más común, pero no necesariamente representa el centro de la distribución.\n",
    "\n",
    "- Mediana (10):\n",
    "\n",
    "La mediana es el valor central de los datos cuando están ordenados. Dado que la distribución tiene un número impar de elementos, la mediana es el valor en la posición media, que en este caso también es 10. La mediana indica que la mitad de los datos son menores o iguales a 10, y la otra mitad es mayor o igual a 10.\n",
    "\n",
    "- Media (9.2):\n",
    "\n",
    "La media es el promedio aritmético de todos los valores en el conjunto de datos. La media de 9.2 está ligeramente a la izquierda de la moda y la mediana. Esto indica que aunque la moda y la mediana coinciden en 10, la media es menor debido a la influencia de los valores más bajos (como 2, 3, 5), que tienden a reducir el promedio general.\n",
    "\n",
    "- Interpretación General:\n",
    "La coincidencia entre la moda y la mediana sugiere que los datos tienen una distribución algo simétrica alrededor de ese punto, aunque no perfectamente, como lo indica la diferencia entre la media y la mediana.\n",
    "La media más baja en comparación con la mediana y la moda sugiere que hay una ligera asimetría negativa (sesgo hacia la izquierda), causada por algunos valores más pequeños que tiran hacia abajo el promedio."
   ]
  },
  {
   "cell_type": "markdown",
   "metadata": {},
   "source": [
    "##  Medidas de Dispersión: "
   ]
  },
  {
   "cell_type": "markdown",
   "metadata": {},
   "source": [
    "- Varianza: Mide la dispersión de los datos respecto a la media. Es la media de los cuadrados de las diferencias entre cada dato y la media.\n",
    "- Desviación Estándar: Es la raíz cuadrada de la varianza. Indica qué tan dispersos están los datos alrededor de la media.\n",
    "- Rango: Es la diferencia entre el valor máximo y el valor mínimo de un conjunto de datos.\n",
    "- Rango Intercuartílico (IQR): Es la diferencia entre el tercer cuartil (Q3) y el primer cuartil (Q1). Mide la dispersión de la mitad central de los datos."
   ]
  },
  {
   "cell_type": "code",
   "execution_count": 3,
   "metadata": {},
   "outputs": [
    {
     "name": "stdout",
     "output_type": "stream",
     "text": [
      "Varianza: 15.885714285714284\n",
      "Desviación Estándar: 3.985688683993556\n"
     ]
    },
    {
     "data": {
      "image/png": "[encoded data removed]",
      "text/plain": [
       "<Figure size 432x288 with 1 Axes>"
      ]
     },
     "metadata": {
      "needs_background": "light"
     },
     "output_type": "display_data"
    }
   ],
   "source": [
    "import numpy as np\n",
    "import scipy.stats as stats\n",
    "import matplotlib.pyplot as plt\n",
    "# Cálculos\n",
    "varianza = np.var(data, ddof=1)\n",
    "desviacion_estandar = np.std(data, ddof=1)\n",
    "\n",
    "print(f\"Varianza: {varianza}\")\n",
    "print(f\"Desviación Estándar: {desviacion_estandar}\")\n",
    "\n",
    "# Visualización\n",
    "plt.hist(data, bins=range(2, 18), alpha=0.7, color='blue', edgecolor='black')\n",
    "plt.axvline(media, color='red', linestyle='dashed', linewidth=1, label=f'Media = {media}')\n",
    "plt.fill_betweenx([0, 5], media-desviacion_estandar, media+desviacion_estandar, color='orange', alpha=0.3, label=f'±1 Desviación Estándar')\n",
    "plt.legend()\n",
    "plt.title('Histograma con Desviación Estándar')\n",
    "plt.xlabel('Valor')\n",
    "plt.ylabel('Frecuencia')\n",
    "plt.show()\n"
   ]
  },
  {
   "cell_type": "markdown",
   "metadata": {},
   "source": [
    "- Varianza (15.8857):\n",
    "\n",
    "La varianza es una medida que indica la dispersión de los datos respecto a la media. Un valor de 15.88 sugiere que los datos están bastante dispersos, con algunos valores significativamente alejados de la media.\n",
    "La varianza se calcula como el promedio de las diferencias al cuadrado entre cada dato y la media. Esto significa que, en promedio, los valores individuales están al cuadrado a 15.88 unidades de la media.\n",
    "\n",
    "- Desviación Estándar (3.9857):\n",
    "\n",
    "La desviación estándar es la raíz cuadrada de la varianza, y en este caso, es aproximadamente 3.99. Es una medida más intuitiva de la dispersión porque está en las mismas unidades que los datos originales.\n",
    "Un valor de 3.99 indica que la mayoría de los datos se encuentran dentro de 4 unidades alrededor de la media (9.2) en ambas direcciones.\n",
    "\n",
    "- Interpretación del Histograma con la Desviación Estándar:\n",
    "\n",
    "En el histograma, la media está marcada con una línea roja discontinua en 9.2.\n",
    "La región sombreada en color naranja indica el rango de una desviación estándar alrededor de la media, es decir, desde \n",
    "9.2 − 3.99 ≈ 5.2 9.2−3.99≈5.2 hasta 9.2 + 3.99≈13.2 9.2+3.99≈13.2.\n",
    "\n",
    "La mayoría de los datos caen dentro de esta región sombreada, lo cual es consistente con la propiedad de la desviación estándar: en una distribución aproximadamente normal, aproximadamente el 68% de los datos deberían caer dentro de una desviación estándar de la media."
   ]
  },
  {
   "cell_type": "markdown",
   "metadata": {},
   "source": [
    "## Medidas de Posición Relativa:\n",
    "- Percentiles: Indican el valor por debajo del cual cae un cierto porcentaje de los datos. Por ejemplo, el percentil 90 es el valor por debajo del cual se encuentra el 90% de los datos.\n",
    "- Cuartiles: Dividen el conjunto de datos en cuatro partes iguales. El primer cuartil (Q1) es el 25% de los datos, el segundo cuartil (Q2) es la mediana (50%), y el tercer cuartil (Q3) es el 75%."
   ]
  },
  {
   "cell_type": "code",
   "execution_count": 6,
   "metadata": {},
   "outputs": [
    {
     "name": "stdout",
     "output_type": "stream",
     "text": [
      "Primer Cuartil (Q1): 7.0\n",
      "Mediana (Q2): 10.0\n",
      "Tercer Cuartil (Q3): 12.0\n",
      "Percentil 10: 3.8000000000000003\n",
      "Percentil 90: 13.6\n"
     ]
    },
    {
     "data": {
      "image/png": "[encoded data removed]",
      "text/plain": [
       "<Figure size 432x288 with 1 Axes>"
      ]
     },
     "metadata": {
      "needs_background": "light"
     },
     "output_type": "display_data"
    }
   ],
   "source": [
    "import numpy as np\n",
    "import matplotlib.pyplot as plt\n",
    "\n",
    "# Datos de ejemplo\n",
    "data = np.array([2, 3, 5, 7, 7, 8, 9, 10, 10, 10, 11, 13, 13, 14, 16])\n",
    "\n",
    "# Cálculo de Cuartiles\n",
    "Q1 = np.percentile(data, 25)\n",
    "Q2 = np.percentile(data, 50)  # También es la mediana\n",
    "Q3 = np.percentile(data, 75)\n",
    "\n",
    "# Cálculo de Percentiles\n",
    "percentil_10 = np.percentile(data, 10)\n",
    "percentil_90 = np.percentile(data, 90)\n",
    "\n",
    "# Mostrar resultados de cuartiles y percentiles\n",
    "print(f\"Primer Cuartil (Q1): {Q1}\")\n",
    "print(f\"Mediana (Q2): {Q2}\")\n",
    "print(f\"Tercer Cuartil (Q3): {Q3}\")\n",
    "print(f\"Percentil 10: {percentil_10}\")\n",
    "print(f\"Percentil 90: {percentil_90}\")\n",
    "\n",
    "# Crear el diagrama de cajas\n",
    "plt.boxplot(data, vert=False, patch_artist=True, \n",
    "            boxprops=dict(facecolor='lightblue', color='blue'),\n",
    "            medianprops=dict(color='red'))\n",
    "\n",
    "# Añadir líneas para los percentiles 10 y 90\n",
    "plt.axvline(percentil_10, color='purple', linestyle='dotted', linewidth=1, label=f'Percentil 10 = {percentil_10}')\n",
    "plt.axvline(percentil_90, color='brown', linestyle='dotted', linewidth=1, label=f'Percentil 90 = {percentil_90}')\n",
    "\n",
    "# Etiquetas y título\n",
    "plt.title('Diagrama de Cajas con Cuartiles y Percentiles')\n",
    "plt.xlabel('Valor')\n",
    "plt.legend()\n",
    "\n",
    "# Mostrar la gráfica\n",
    "plt.show()\n",
    "\n"
   ]
  },
  {
   "cell_type": "markdown",
   "metadata": {},
   "source": [
    "### Interpretación\n",
    "\n",
    "* La caja, que abarca del primer al tercer cuartil, muestra la dispersión del 50% central de los datos. La distancia entre Q1 y Q3 indica una dispersión moderada.\n",
    "La mediana está cerca del centro de la caja, lo que sugiere una distribución simétrica del 50% central de los datos.\n",
    "Valores Extremos:\n",
    "\n",
    "* Los percentiles 10 y 90 indican los valores en los extremos de la distribución. El percentil 10 (3.8) sugiere que el 10% de los datos son menores o iguales a este valor, mientras que el percentil 90 (13.6) indica que el 90% de los datos son menores o iguales a este valor.\n",
    "\n",
    "* Ausencia de Valores Atípicos (Outliers):\n",
    "\n",
    "No hay puntos fuera de los bigotes, lo que indica que no hay valores atípicos extremos en el conjunto de datos."
   ]
  },
  {
   "cell_type": "markdown",
   "metadata": {},
   "source": [
    "## Medidas de Asociación\n",
    "\n",
    "- Covarianza: Mide la relación lineal entre dos variables. Si la covarianza es positiva, ambas variables tienden a aumentar juntas; si es negativa, una variable tiende a aumentar cuando la otra disminuye.\n",
    "- Correlación: Es una medida normalizada de la covarianza que varía entre -1 y 1. Un valor de 1 indica una correlación positiva perfecta, -1 una correlación negativa perfecta, y 0 indica que no hay correlación lineal."
   ]
  },
  {
   "cell_type": "code",
   "execution_count": 7,
   "metadata": {},
   "outputs": [
    {
     "name": "stdout",
     "output_type": "stream",
     "text": [
      "Covarianza: 1.5\n",
      "Correlación: 0.7745966692414834\n"
     ]
    },
    {
     "data": {
      "image/png": "[encoded data removed]",
      "text/plain": [
       "<Figure size 432x288 with 1 Axes>"
      ]
     },
     "metadata": {
      "needs_background": "light"
     },
     "output_type": "display_data"
    }
   ],
   "source": [
    "import numpy as np\n",
    "import scipy.stats as stats\n",
    "import matplotlib.pyplot as plt\n",
    "\n",
    "# Datos de ejemplo\n",
    "data_x = np.array([1, 2, 3, 4, 5])\n",
    "data_y = np.array([2, 4, 5, 4, 5])\n",
    "\n",
    "# Cálculos\n",
    "covarianza = np.cov(data_x, data_y)[0, 1]\n",
    "correlacion = np.corrcoef(data_x, data_y)[0, 1]\n",
    "\n",
    "print(f\"Covarianza: {covarianza}\")\n",
    "print(f\"Correlación: {correlacion}\")\n",
    "\n",
    "# Visualización\n",
    "plt.scatter(data_x, data_y, color='blue')\n",
    "plt.title(f'Diagrama de Dispersión\\nCovarianza = {covarianza}, Correlación = {correlacion:.2f}')\n",
    "plt.xlabel('X')\n",
    "plt.ylabel('Y')\n",
    "plt.show()\n"
   ]
  },
  {
   "cell_type": "markdown",
   "metadata": {},
   "source": [
    "El diagrama de dispersión visualiza la relación entre dos variables, 𝑋 y 𝑌\n",
    "\n",
    "1. Covarianza (1.5):\n",
    "Definición: La covarianza mide la dirección de la relación lineal entre dos variables.\n",
    "Interpretación:\n",
    "Positiva: Si la covarianza es positiva, como en este caso (1.5), indica que cuando una de las variables aumenta, la otra también tiende a aumentar."
   ]
  },
  {
   "cell_type": "markdown",
   "metadata": {},
   "source": [
    "2. Correlación (0.77): Definición: La correlación es una medida normalizada de la covarianza que varía entre -1 y 1.\n",
    "\n",
    "- Valor Positivo (0.77): Un valor de 0.77 indica una correlación positiva moderadamente fuerte. Esto sugiere que las variables \n",
    "X e 𝑌. Y tienden a moverse en la misma dirección, es decir, cuando 𝑋  aumenta, 𝑌 también tiende a aumentar.\n",
    "- Fuerza de la Relación: Una correlación de 0.77 indica una relación lineal relativamente fuerte, pero no perfecta."
   ]
  },
  {
   "cell_type": "markdown",
   "metadata": {},
   "source": [
    "3. Diagrama de Dispersión:\n",
    "Visualización: Los puntos en el gráfico representan pares de valores ( 𝑋 ,𝑌).\n",
    "\n",
    "- Relación Lineal: Los puntos parecen estar distribuidos en una pendiente ascendente, lo que confirma la correlación positiva. Esto significa que existe una tendencia general en la cual, a medida que 𝑋 aumenta, 𝑌 también tiende a aumentar.\n",
    "- Dispersión de los Datos: Aunque los puntos no están perfectamente alineados, la correlación de 0.77 indica una tendencia clara y bastante consistente entre las variables."
   ]
  }
 ],
 "metadata": {
  "kernelspec": {
   "display_name": "Python 3",
   "language": "python",
   "name": "python3"
  },
  "language_info": {
   "codemirror_mode": {
    "name": "ipython",
    "version": 3
   },
   "file_extension": ".py",
   "mimetype": "text/x-python",
   "name": "python",
   "nbconvert_exporter": "python",
   "pygments_lexer": "ipython3",
   "version": "3.9.6"
  }
 },
 "nbformat": 4,
 "nbformat_minor": 2
}
