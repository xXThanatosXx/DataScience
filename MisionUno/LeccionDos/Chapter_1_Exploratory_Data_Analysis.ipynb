{
  "cells": [
    {
      "cell_type": "code",
      "source": [
        "!pip install pandas numpy statsmodels wquantiles seaborn\n"
      ],
      "metadata": {
        "colab": {
          "base_uri": "https://localhost:8080/"
        },
        "id": "PvpuFTS5a9de",
        "outputId": "05caf455-3ab3-4995-e7f1-03db60cc5d3f"
      },
      "execution_count": 2,
      "outputs": [
        {
          "output_type": "stream",
          "name": "stdout",
          "text": [
            "Requirement already satisfied: pandas in /usr/local/lib/python3.10/dist-packages (2.1.4)\n",
            "Requirement already satisfied: numpy in /usr/local/lib/python3.10/dist-packages (1.26.4)\n",
            "Requirement already satisfied: statsmodels in /usr/local/lib/python3.10/dist-packages (0.14.2)\n",
            "Collecting wquantiles\n",
            "  Downloading wquantiles-0.6-py3-none-any.whl.metadata (1.1 kB)\n",
            "Requirement already satisfied: seaborn in /usr/local/lib/python3.10/dist-packages (0.13.1)\n",
            "Requirement already satisfied: python-dateutil>=2.8.2 in /usr/local/lib/python3.10/dist-packages (from pandas) (2.8.2)\n",
            "Requirement already satisfied: pytz>=2020.1 in /usr/local/lib/python3.10/dist-packages (from pandas) (2024.1)\n",
            "Requirement already satisfied: tzdata>=2022.1 in /usr/local/lib/python3.10/dist-packages (from pandas) (2024.1)\n",
            "Requirement already satisfied: scipy!=1.9.2,>=1.8 in /usr/local/lib/python3.10/dist-packages (from statsmodels) (1.13.1)\n",
            "Requirement already satisfied: patsy>=0.5.6 in /usr/local/lib/python3.10/dist-packages (from statsmodels) (0.5.6)\n",
            "Requirement already satisfied: packaging>=21.3 in /usr/local/lib/python3.10/dist-packages (from statsmodels) (24.1)\n",
            "Requirement already satisfied: matplotlib!=3.6.1,>=3.4 in /usr/local/lib/python3.10/dist-packages (from seaborn) (3.7.1)\n",
            "Requirement already satisfied: contourpy>=1.0.1 in /usr/local/lib/python3.10/dist-packages (from matplotlib!=3.6.1,>=3.4->seaborn) (1.2.1)\n",
            "Requirement already satisfied: cycler>=0.10 in /usr/local/lib/python3.10/dist-packages (from matplotlib!=3.6.1,>=3.4->seaborn) (0.12.1)\n",
            "Requirement already satisfied: fonttools>=4.22.0 in /usr/local/lib/python3.10/dist-packages (from matplotlib!=3.6.1,>=3.4->seaborn) (4.53.1)\n",
            "Requirement already satisfied: kiwisolver>=1.0.1 in /usr/local/lib/python3.10/dist-packages (from matplotlib!=3.6.1,>=3.4->seaborn) (1.4.5)\n",
            "Requirement already satisfied: pillow>=6.2.0 in /usr/local/lib/python3.10/dist-packages (from matplotlib!=3.6.1,>=3.4->seaborn) (9.4.0)\n",
            "Requirement already satisfied: pyparsing>=2.3.1 in /usr/local/lib/python3.10/dist-packages (from matplotlib!=3.6.1,>=3.4->seaborn) (3.1.2)\n",
            "Requirement already satisfied: six in /usr/local/lib/python3.10/dist-packages (from patsy>=0.5.6->statsmodels) (1.16.0)\n",
            "Downloading wquantiles-0.6-py3-none-any.whl (3.3 kB)\n",
            "Installing collected packages: wquantiles\n",
            "Successfully installed wquantiles-0.6\n"
          ]
        }
      ]
    },
    {
      "cell_type": "markdown",
      "metadata": {
        "id": "dNCNbr9XakWK"
      },
      "source": [
        "Import required Python packages."
      ]
    },
    {
      "cell_type": "code",
      "execution_count": 3,
      "metadata": {
        "execution": {
          "iopub.execute_input": "2022-04-26T19:41:32.294296Z",
          "iopub.status.busy": "2022-04-26T19:41:32.293278Z",
          "iopub.status.idle": "2022-04-26T19:41:34.654458Z",
          "shell.execute_reply": "2022-04-26T19:41:34.653515Z"
        },
        "id": "IkzolYweakWL"
      },
      "outputs": [],
      "source": [
        "%matplotlib inline\n",
        "\n",
        "from pathlib import Path\n",
        "\n",
        "import pandas as pd\n",
        "import numpy as np\n",
        "from scipy.stats import trim_mean\n",
        "from statsmodels import robust\n",
        "import wquantiles\n",
        "\n",
        "import seaborn as sns\n",
        "import matplotlib.pylab as plt"
      ]
    },
    {
      "cell_type": "code",
      "execution_count": 4,
      "metadata": {
        "execution": {
          "iopub.execute_input": "2022-04-26T19:41:34.658338Z",
          "iopub.status.busy": "2022-04-26T19:41:34.658135Z",
          "iopub.status.idle": "2022-04-26T19:41:35.666930Z",
          "shell.execute_reply": "2022-04-26T19:41:35.666004Z"
        },
        "colab": {
          "base_uri": "https://localhost:8080/",
          "height": 74
        },
        "id": "Np8GK7PoakWN",
        "outputId": "3b8277dc-3ecd-40ed-b146-2314dc4a6240"
      },
      "outputs": [
        {
          "output_type": "display_data",
          "data": {
            "text/plain": [
              "<IPython.core.display.HTML object>"
            ],
            "text/html": [
              "\n",
              "     <input type=\"file\" id=\"files-da736fd3-cba5-4d1a-9e1d-cb3665422140\" name=\"files[]\" multiple disabled\n",
              "        style=\"border:none\" />\n",
              "     <output id=\"result-da736fd3-cba5-4d1a-9e1d-cb3665422140\">\n",
              "      Upload widget is only available when the cell has been executed in the\n",
              "      current browser session. Please rerun this cell to enable.\n",
              "      </output>\n",
              "      <script>// Copyright 2017 Google LLC\n",
              "//\n",
              "// Licensed under the Apache License, Version 2.0 (the \"License\");\n",
              "// you may not use this file except in compliance with the License.\n",
              "// You may obtain a copy of the License at\n",
              "//\n",
              "//      http://www.apache.org/licenses/LICENSE-2.0\n",
              "//\n",
              "// Unless required by applicable law or agreed to in writing, software\n",
              "// distributed under the License is distributed on an \"AS IS\" BASIS,\n",
              "// WITHOUT WARRANTIES OR CONDITIONS OF ANY KIND, either express or implied.\n",
              "// See the License for the specific language governing permissions and\n",
              "// limitations under the License.\n",
              "\n",
              "/**\n",
              " * @fileoverview Helpers for google.colab Python module.\n",
              " */\n",
              "(function(scope) {\n",
              "function span(text, styleAttributes = {}) {\n",
              "  const element = document.createElement('span');\n",
              "  element.textContent = text;\n",
              "  for (const key of Object.keys(styleAttributes)) {\n",
              "    element.style[key] = styleAttributes[key];\n",
              "  }\n",
              "  return element;\n",
              "}\n",
              "\n",
              "// Max number of bytes which will be uploaded at a time.\n",
              "const MAX_PAYLOAD_SIZE = 100 * 1024;\n",
              "\n",
              "function _uploadFiles(inputId, outputId) {\n",
              "  const steps = uploadFilesStep(inputId, outputId);\n",
              "  const outputElement = document.getElementById(outputId);\n",
              "  // Cache steps on the outputElement to make it available for the next call\n",
              "  // to uploadFilesContinue from Python.\n",
              "  outputElement.steps = steps;\n",
              "\n",
              "  return _uploadFilesContinue(outputId);\n",
              "}\n",
              "\n",
              "// This is roughly an async generator (not supported in the browser yet),\n",
              "// where there are multiple asynchronous steps and the Python side is going\n",
              "// to poll for completion of each step.\n",
              "// This uses a Promise to block the python side on completion of each step,\n",
              "// then passes the result of the previous step as the input to the next step.\n",
              "function _uploadFilesContinue(outputId) {\n",
              "  const outputElement = document.getElementById(outputId);\n",
              "  const steps = outputElement.steps;\n",
              "\n",
              "  const next = steps.next(outputElement.lastPromiseValue);\n",
              "  return Promise.resolve(next.value.promise).then((value) => {\n",
              "    // Cache the last promise value to make it available to the next\n",
              "    // step of the generator.\n",
              "    outputElement.lastPromiseValue = value;\n",
              "    return next.value.response;\n",
              "  });\n",
              "}\n",
              "\n",
              "/**\n",
              " * Generator function which is called between each async step of the upload\n",
              " * process.\n",
              " * @param {string} inputId Element ID of the input file picker element.\n",
              " * @param {string} outputId Element ID of the output display.\n",
              " * @return {!Iterable<!Object>} Iterable of next steps.\n",
              " */\n",
              "function* uploadFilesStep(inputId, outputId) {\n",
              "  const inputElement = document.getElementById(inputId);\n",
              "  inputElement.disabled = false;\n",
              "\n",
              "  const outputElement = document.getElementById(outputId);\n",
              "  outputElement.innerHTML = '';\n",
              "\n",
              "  const pickedPromise = new Promise((resolve) => {\n",
              "    inputElement.addEventListener('change', (e) => {\n",
              "      resolve(e.target.files);\n",
              "    });\n",
              "  });\n",
              "\n",
              "  const cancel = document.createElement('button');\n",
              "  inputElement.parentElement.appendChild(cancel);\n",
              "  cancel.textContent = 'Cancel upload';\n",
              "  const cancelPromise = new Promise((resolve) => {\n",
              "    cancel.onclick = () => {\n",
              "      resolve(null);\n",
              "    };\n",
              "  });\n",
              "\n",
              "  // Wait for the user to pick the files.\n",
              "  const files = yield {\n",
              "    promise: Promise.race([pickedPromise, cancelPromise]),\n",
              "    response: {\n",
              "      action: 'starting',\n",
              "    }\n",
              "  };\n",
              "\n",
              "  cancel.remove();\n",
              "\n",
              "  // Disable the input element since further picks are not allowed.\n",
              "  inputElement.disabled = true;\n",
              "\n",
              "  if (!files) {\n",
              "    return {\n",
              "      response: {\n",
              "        action: 'complete',\n",
              "      }\n",
              "    };\n",
              "  }\n",
              "\n",
              "  for (const file of files) {\n",
              "    const li = document.createElement('li');\n",
              "    li.append(span(file.name, {fontWeight: 'bold'}));\n",
              "    li.append(span(\n",
              "        `(${file.type || 'n/a'}) - ${file.size} bytes, ` +\n",
              "        `last modified: ${\n",
              "            file.lastModifiedDate ? file.lastModifiedDate.toLocaleDateString() :\n",
              "                                    'n/a'} - `));\n",
              "    const percent = span('0% done');\n",
              "    li.appendChild(percent);\n",
              "\n",
              "    outputElement.appendChild(li);\n",
              "\n",
              "    const fileDataPromise = new Promise((resolve) => {\n",
              "      const reader = new FileReader();\n",
              "      reader.onload = (e) => {\n",
              "        resolve(e.target.result);\n",
              "      };\n",
              "      reader.readAsArrayBuffer(file);\n",
              "    });\n",
              "    // Wait for the data to be ready.\n",
              "    let fileData = yield {\n",
              "      promise: fileDataPromise,\n",
              "      response: {\n",
              "        action: 'continue',\n",
              "      }\n",
              "    };\n",
              "\n",
              "    // Use a chunked sending to avoid message size limits. See b/62115660.\n",
              "    let position = 0;\n",
              "    do {\n",
              "      const length = Math.min(fileData.byteLength - position, MAX_PAYLOAD_SIZE);\n",
              "      const chunk = new Uint8Array(fileData, position, length);\n",
              "      position += length;\n",
              "\n",
              "      const base64 = btoa(String.fromCharCode.apply(null, chunk));\n",
              "      yield {\n",
              "        response: {\n",
              "          action: 'append',\n",
              "          file: file.name,\n",
              "          data: base64,\n",
              "        },\n",
              "      };\n",
              "\n",
              "      let percentDone = fileData.byteLength === 0 ?\n",
              "          100 :\n",
              "          Math.round((position / fileData.byteLength) * 100);\n",
              "      percent.textContent = `${percentDone}% done`;\n",
              "\n",
              "    } while (position < fileData.byteLength);\n",
              "  }\n",
              "\n",
              "  // All done.\n",
              "  yield {\n",
              "    response: {\n",
              "      action: 'complete',\n",
              "    }\n",
              "  };\n",
              "}\n",
              "\n",
              "scope.google = scope.google || {};\n",
              "scope.google.colab = scope.google.colab || {};\n",
              "scope.google.colab._files = {\n",
              "  _uploadFiles,\n",
              "  _uploadFilesContinue,\n",
              "};\n",
              "})(self);\n",
              "</script> "
            ]
          },
          "metadata": {}
        },
        {
          "output_type": "stream",
          "name": "stdout",
          "text": [
            "Saving state.csv to state.csv\n"
          ]
        }
      ],
      "source": [
        "from google.colab import files\n",
        "\n",
        "uploaded = files.upload()"
      ]
    },
    {
      "cell_type": "markdown",
      "metadata": {
        "id": "Lq5cG24-akWN"
      },
      "source": [
        "Define paths to data sets. If you don't keep your data in the same directory as the code, adapt the path names."
      ]
    },
    {
      "cell_type": "code",
      "execution_count": 5,
      "metadata": {
        "execution": {
          "iopub.execute_input": "2022-04-26T19:41:35.671310Z",
          "iopub.status.busy": "2022-04-26T19:41:35.671080Z",
          "iopub.status.idle": "2022-04-26T19:41:35.675307Z",
          "shell.execute_reply": "2022-04-26T19:41:35.674572Z"
        },
        "colab": {
          "base_uri": "https://localhost:8080/"
        },
        "id": "LYCnjHKyakWO",
        "outputId": "6d4ccbb4-a1fc-4338-b1c6-8eb3a87cbf00"
      },
      "outputs": [
        {
          "output_type": "stream",
          "name": "stdout",
          "text": [
            "             State  Population  Murder.Rate Abbreviation\n",
            "0          Alabama     4779736          5.7           AL\n",
            "1           Alaska      710231          5.6           AK\n",
            "2          Arizona     6392017          4.7           AZ\n",
            "3         Arkansas     2915918          5.6           AR\n",
            "4       California    37253956          4.4           CA\n",
            "5         Colorado     5029196          2.8           CO\n",
            "6      Connecticut     3574097          2.4           CT\n",
            "7         Delaware      897934          5.8           DE\n",
            "8          Florida    18801310          5.8           FL\n",
            "9          Georgia     9687653          5.7           GA\n",
            "10          Hawaii     1360301          1.8           HI\n",
            "11           Idaho     1567582          2.0           ID\n",
            "12        Illinois    12830632          5.3           IL\n",
            "13         Indiana     6483802          5.0           IN\n",
            "14            Iowa     3046355          1.9           IA\n",
            "15          Kansas     2853118          3.1           KS\n",
            "16        Kentucky     4339367          3.6           KY\n",
            "17       Louisiana     4533372         10.3           LA\n",
            "18           Maine     1328361          1.6           ME\n",
            "19        Maryland     5773552          6.1           MD\n",
            "20   Massachusetts     6547629          2.0           MA\n",
            "21        Michigan     9883640          5.4           MI\n",
            "22       Minnesota     5303925          1.6           MN\n",
            "23     Mississippi     2967297          8.6           MS\n",
            "24        Missouri     5988927          6.6           MO\n",
            "25         Montana      989415          3.6           MT\n",
            "26        Nebraska     1826341          2.9           NE\n",
            "27          Nevada     2700551          6.0           NV\n",
            "28   New Hampshire     1316470          0.9           NH\n",
            "29      New Jersey     8791894          3.9           NJ\n",
            "30      New Mexico     2059179          4.8           NM\n",
            "31        New York    19378102          3.1           NY\n",
            "32  North Carolina     9535483          5.1           NC\n",
            "33    North Dakota      672591          3.0           ND\n",
            "34            Ohio    11536504          4.0           OH\n",
            "35        Oklahoma     3751351          4.5           OK\n",
            "36          Oregon     3831074          2.0           OR\n",
            "37    Pennsylvania    12702379          4.8           PA\n",
            "38    Rhode Island     1052567          2.4           RI\n",
            "39  South Carolina     4625364          6.4           SC\n",
            "40    South Dakota      814180          2.3           SD\n",
            "41       Tennessee     6346105          5.7           TN\n",
            "42           Texas    25145561          4.4           TX\n",
            "43            Utah     2763885          2.3           UT\n",
            "44         Vermont      625741          1.6           VT\n",
            "45        Virginia     8001024          4.1           VA\n",
            "46      Washington     6724540          2.5           WA\n",
            "47   West Virginia     1852994          4.0           WV\n",
            "48       Wisconsin     5686986          2.9           WI\n",
            "49         Wyoming      563626          2.7           WY\n"
          ]
        }
      ],
      "source": [
        "import pandas as pd\n",
        "\n",
        "# Después de subir el archivo, estará disponible en el directorio actual\n",
        "file_name = 'state.csv'\n",
        "\n",
        "# Carga el archivo CSV en un DataFrame\n",
        "STATE_CSV = pd.read_csv(file_name)\n",
        "\n",
        "# Imprime el DataFrame para verificar que se ha cargado correctamente\n",
        "print(STATE_CSV)"
      ]
    },
    {
      "cell_type": "markdown",
      "metadata": {
        "id": "CuJtytBYakWO"
      },
      "source": [
        "# Estimates of Location\n",
        "## Example: Location Estimates of Population and Murder Rates"
      ]
    },
    {
      "cell_type": "code",
      "execution_count": 7,
      "metadata": {
        "execution": {
          "iopub.execute_input": "2022-04-26T19:41:35.678420Z",
          "iopub.status.busy": "2022-04-26T19:41:35.678202Z",
          "iopub.status.idle": "2022-04-26T19:41:35.691453Z",
          "shell.execute_reply": "2022-04-26T19:41:35.690552Z"
        },
        "colab": {
          "base_uri": "https://localhost:8080/"
        },
        "id": "UIc4Uib1akWP",
        "outputId": "ab4e7fc6-3dd5-4501-b9d3-f4e46f17983b"
      },
      "outputs": [
        {
          "output_type": "stream",
          "name": "stdout",
          "text": [
            "         State  Population  Murder.Rate Abbreviation\n",
            "0      Alabama     4779736          5.7           AL\n",
            "1       Alaska      710231          5.6           AK\n",
            "2      Arizona     6392017          4.7           AZ\n",
            "3     Arkansas     2915918          5.6           AR\n",
            "4   California    37253956          4.4           CA\n",
            "5     Colorado     5029196          2.8           CO\n",
            "6  Connecticut     3574097          2.4           CT\n",
            "7     Delaware      897934          5.8           DE\n"
          ]
        }
      ],
      "source": [
        "# Table 1-2\n",
        "state = STATE_CSV\n",
        "print(state.head(8))"
      ]
    },
    {
      "cell_type": "markdown",
      "metadata": {
        "id": "peUaXDTEakWQ"
      },
      "source": [
        "Compute the mean, trimmed mean, and median for Population. For `mean` and `median` we can use the _pandas_ methods of the data frame. The trimmed mean requires the `trim_mean` function in _scipy.stats_."
      ]
    },
    {
      "cell_type": "code",
      "execution_count": 8,
      "metadata": {
        "execution": {
          "iopub.execute_input": "2022-04-26T19:41:35.720234Z",
          "iopub.status.busy": "2022-04-26T19:41:35.719289Z",
          "iopub.status.idle": "2022-04-26T19:41:35.728249Z",
          "shell.execute_reply": "2022-04-26T19:41:35.727173Z"
        },
        "colab": {
          "base_uri": "https://localhost:8080/"
        },
        "id": "iwkLXzfEakWQ",
        "outputId": "3fce38c9-970f-4286-c33c-04c25af1f2ce"
      },
      "outputs": [
        {
          "output_type": "stream",
          "name": "stdout",
          "text": [
            "6162876.3\n"
          ]
        }
      ],
      "source": [
        "state = STATE_CSV\n",
        "print(state['Population'].mean())"
      ]
    },
    {
      "cell_type": "code",
      "execution_count": 9,
      "metadata": {
        "execution": {
          "iopub.execute_input": "2022-04-26T19:41:35.731743Z",
          "iopub.status.busy": "2022-04-26T19:41:35.731507Z",
          "iopub.status.idle": "2022-04-26T19:41:35.736311Z",
          "shell.execute_reply": "2022-04-26T19:41:35.735324Z"
        },
        "colab": {
          "base_uri": "https://localhost:8080/"
        },
        "id": "1jsNOXnvakWR",
        "outputId": "e333f8d0-ec2e-442e-8133-c39659c54c79"
      },
      "outputs": [
        {
          "output_type": "stream",
          "name": "stdout",
          "text": [
            "4783697.125\n"
          ]
        }
      ],
      "source": [
        "print(trim_mean(state['Population'], 0.1))"
      ]
    },
    {
      "cell_type": "code",
      "execution_count": 10,
      "metadata": {
        "execution": {
          "iopub.execute_input": "2022-04-26T19:41:35.739570Z",
          "iopub.status.busy": "2022-04-26T19:41:35.738914Z",
          "iopub.status.idle": "2022-04-26T19:41:35.743616Z",
          "shell.execute_reply": "2022-04-26T19:41:35.742791Z"
        },
        "colab": {
          "base_uri": "https://localhost:8080/"
        },
        "id": "k_Y0nH0aakWR",
        "outputId": "f426365c-7d98-45ab-8b6f-56dabf103043"
      },
      "outputs": [
        {
          "output_type": "stream",
          "name": "stdout",
          "text": [
            "4436369.5\n"
          ]
        }
      ],
      "source": [
        "print(state['Population'].median())"
      ]
    },
    {
      "cell_type": "markdown",
      "metadata": {
        "id": "MbEAIkYlakWS"
      },
      "source": [
        "Weighted mean is available with numpy. For weighted median, we can use the specialised package `wquantiles` (https://pypi.org/project/wquantiles/)."
      ]
    },
    {
      "cell_type": "code",
      "execution_count": 11,
      "metadata": {
        "execution": {
          "iopub.execute_input": "2022-04-26T19:41:35.747867Z",
          "iopub.status.busy": "2022-04-26T19:41:35.746718Z",
          "iopub.status.idle": "2022-04-26T19:41:35.751766Z",
          "shell.execute_reply": "2022-04-26T19:41:35.750725Z"
        },
        "colab": {
          "base_uri": "https://localhost:8080/"
        },
        "id": "z9s9IRQlakWS",
        "outputId": "70ddcf90-dcc3-4646-8042-0c0718694be1"
      },
      "outputs": [
        {
          "output_type": "stream",
          "name": "stdout",
          "text": [
            "4.066\n"
          ]
        }
      ],
      "source": [
        "print(state['Murder.Rate'].mean())"
      ]
    },
    {
      "cell_type": "code",
      "execution_count": 12,
      "metadata": {
        "execution": {
          "iopub.execute_input": "2022-04-26T19:41:35.754703Z",
          "iopub.status.busy": "2022-04-26T19:41:35.754436Z",
          "iopub.status.idle": "2022-04-26T19:41:35.758428Z",
          "shell.execute_reply": "2022-04-26T19:41:35.757718Z"
        },
        "colab": {
          "base_uri": "https://localhost:8080/"
        },
        "id": "NPAV8cXIakWS",
        "outputId": "a75ecf5f-debb-46f2-8865-241c8545f833"
      },
      "outputs": [
        {
          "output_type": "stream",
          "name": "stdout",
          "text": [
            "4.445833981123393\n"
          ]
        }
      ],
      "source": [
        "print(np.average(state['Murder.Rate'], weights=state['Population']))"
      ]
    },
    {
      "cell_type": "code",
      "execution_count": 13,
      "metadata": {
        "execution": {
          "iopub.execute_input": "2022-04-26T19:41:35.762385Z",
          "iopub.status.busy": "2022-04-26T19:41:35.761389Z",
          "iopub.status.idle": "2022-04-26T19:41:35.767182Z",
          "shell.execute_reply": "2022-04-26T19:41:35.766512Z"
        },
        "scrolled": true,
        "colab": {
          "base_uri": "https://localhost:8080/"
        },
        "id": "A_7gmq6BakWT",
        "outputId": "ee74cde6-1743-4d45-ebeb-12092c3a5f39"
      },
      "outputs": [
        {
          "output_type": "stream",
          "name": "stdout",
          "text": [
            "4.4\n"
          ]
        }
      ],
      "source": [
        "print(wquantiles.median(state['Murder.Rate'], weights=state['Population']))"
      ]
    },
    {
      "cell_type": "markdown",
      "metadata": {
        "id": "8GuK1BuLakWT"
      },
      "source": [
        "# Estimates of Variability"
      ]
    },
    {
      "cell_type": "code",
      "execution_count": 14,
      "metadata": {
        "execution": {
          "iopub.execute_input": "2022-04-26T19:41:35.770317Z",
          "iopub.status.busy": "2022-04-26T19:41:35.770083Z",
          "iopub.status.idle": "2022-04-26T19:41:35.776432Z",
          "shell.execute_reply": "2022-04-26T19:41:35.775632Z"
        },
        "colab": {
          "base_uri": "https://localhost:8080/"
        },
        "id": "sMAY1AkNakWT",
        "outputId": "50a88910-d408-4596-e7da-ea93f443b85c"
      },
      "outputs": [
        {
          "output_type": "stream",
          "name": "stdout",
          "text": [
            "         State  Population  Murder.Rate Abbreviation\n",
            "0      Alabama     4779736          5.7           AL\n",
            "1       Alaska      710231          5.6           AK\n",
            "2      Arizona     6392017          4.7           AZ\n",
            "3     Arkansas     2915918          5.6           AR\n",
            "4   California    37253956          4.4           CA\n",
            "5     Colorado     5029196          2.8           CO\n",
            "6  Connecticut     3574097          2.4           CT\n",
            "7     Delaware      897934          5.8           DE\n"
          ]
        }
      ],
      "source": [
        "# Table 1-2\n",
        "print(state.head(8))"
      ]
    },
    {
      "cell_type": "markdown",
      "metadata": {
        "id": "1mKeepaEakWT"
      },
      "source": [
        "Standard deviation"
      ]
    },
    {
      "cell_type": "code",
      "execution_count": 15,
      "metadata": {
        "execution": {
          "iopub.execute_input": "2022-04-26T19:41:35.779557Z",
          "iopub.status.busy": "2022-04-26T19:41:35.779301Z",
          "iopub.status.idle": "2022-04-26T19:41:35.784171Z",
          "shell.execute_reply": "2022-04-26T19:41:35.783323Z"
        },
        "colab": {
          "base_uri": "https://localhost:8080/"
        },
        "id": "9v7FxR-YakWU",
        "outputId": "3747ce6d-8023-44d4-a59f-c61e722ca8f1"
      },
      "outputs": [
        {
          "output_type": "stream",
          "name": "stdout",
          "text": [
            "6848235.347401142\n"
          ]
        }
      ],
      "source": [
        "print(state['Population'].std())"
      ]
    },
    {
      "cell_type": "markdown",
      "metadata": {
        "id": "JyzzXHIPakWU"
      },
      "source": [
        "Interquartile range is calculated as the difference of the 75% and 25% quantile."
      ]
    },
    {
      "cell_type": "code",
      "execution_count": 16,
      "metadata": {
        "execution": {
          "iopub.execute_input": "2022-04-26T19:41:35.787566Z",
          "iopub.status.busy": "2022-04-26T19:41:35.787016Z",
          "iopub.status.idle": "2022-04-26T19:41:35.792405Z",
          "shell.execute_reply": "2022-04-26T19:41:35.791742Z"
        },
        "colab": {
          "base_uri": "https://localhost:8080/"
        },
        "id": "IjqHOUJDakWU",
        "outputId": "d6c3ce64-dcd8-438c-9fdf-44df7d806efe"
      },
      "outputs": [
        {
          "output_type": "stream",
          "name": "stdout",
          "text": [
            "4847308.0\n"
          ]
        }
      ],
      "source": [
        "print(state['Population'].quantile(0.75) - state['Population'].quantile(0.25))"
      ]
    },
    {
      "cell_type": "markdown",
      "metadata": {
        "id": "LnPhzLwrakWU"
      },
      "source": [
        "Median absolute deviation from the median can be calculated with a method in _statsmodels_"
      ]
    },
    {
      "cell_type": "code",
      "execution_count": 17,
      "metadata": {
        "execution": {
          "iopub.execute_input": "2022-04-26T19:41:35.795428Z",
          "iopub.status.busy": "2022-04-26T19:41:35.795210Z",
          "iopub.status.idle": "2022-04-26T19:41:35.801633Z",
          "shell.execute_reply": "2022-04-26T19:41:35.800953Z"
        },
        "colab": {
          "base_uri": "https://localhost:8080/"
        },
        "id": "s6qMALaZakWV",
        "outputId": "b388b95a-7c2e-4eac-e6ba-23cd510023db"
      },
      "outputs": [
        {
          "output_type": "stream",
          "name": "stdout",
          "text": [
            "3849876.1459979336\n",
            "3849876.1459979336\n"
          ]
        }
      ],
      "source": [
        "print(robust.scale.mad(state['Population']))\n",
        "print(abs(state['Population'] - state['Population'].median()).median() / 0.6744897501960817)"
      ]
    },
    {
      "cell_type": "markdown",
      "metadata": {
        "id": "LMBrLcTcakWV"
      },
      "source": [
        "## Percentiles and Boxplots\n",
        "_Pandas_ has the `quantile` method for data frames."
      ]
    },
    {
      "cell_type": "code",
      "execution_count": 18,
      "metadata": {
        "execution": {
          "iopub.execute_input": "2022-04-26T19:41:35.805389Z",
          "iopub.status.busy": "2022-04-26T19:41:35.804986Z",
          "iopub.status.idle": "2022-04-26T19:41:35.813654Z",
          "shell.execute_reply": "2022-04-26T19:41:35.812743Z"
        },
        "colab": {
          "base_uri": "https://localhost:8080/"
        },
        "id": "K4wYGb7FakWV",
        "outputId": "99b76389-688b-40cc-b729-230761bad953"
      },
      "outputs": [
        {
          "output_type": "stream",
          "name": "stdout",
          "text": [
            "0.05    1.600\n",
            "0.25    2.425\n",
            "0.50    4.000\n",
            "0.75    5.550\n",
            "0.95    6.510\n",
            "Name: Murder.Rate, dtype: float64\n"
          ]
        }
      ],
      "source": [
        "print(state['Murder.Rate'].quantile([0.05, 0.25, 0.5, 0.75, 0.95]))"
      ]
    },
    {
      "cell_type": "code",
      "execution_count": 19,
      "metadata": {
        "execution": {
          "iopub.execute_input": "2022-04-26T19:41:35.816851Z",
          "iopub.status.busy": "2022-04-26T19:41:35.816645Z",
          "iopub.status.idle": "2022-04-26T19:41:35.825931Z",
          "shell.execute_reply": "2022-04-26T19:41:35.825018Z"
        },
        "colab": {
          "base_uri": "https://localhost:8080/"
        },
        "id": "0cCyNSxOakWV",
        "outputId": "a3ba0715-6bc1-4e82-8a16-b58107602059"
      },
      "outputs": [
        {
          "output_type": "stream",
          "name": "stdout",
          "text": [
            "             5.0%  25.0%  50.0%  75.0%  95.0%\n",
            "Murder.Rate   1.6  2.425    4.0   5.55   6.51\n"
          ]
        }
      ],
      "source": [
        "# Table 1.4\n",
        "percentages = [0.05, 0.25, 0.5, 0.75, 0.95]\n",
        "df = pd.DataFrame(state['Murder.Rate'].quantile(percentages))\n",
        "df.index = [f'{p * 100}%' for p in percentages]\n",
        "print(df.transpose())"
      ]
    },
    {
      "cell_type": "markdown",
      "metadata": {
        "id": "gKopvIdEakWW"
      },
      "source": [
        "_Pandas_ provides a number of basic exploratory plots; one of them are boxplots"
      ]
    },
    {
      "cell_type": "code",
      "execution_count": 20,
      "metadata": {
        "execution": {
          "iopub.execute_input": "2022-04-26T19:41:35.829031Z",
          "iopub.status.busy": "2022-04-26T19:41:35.828825Z",
          "iopub.status.idle": "2022-04-26T19:41:36.009799Z",
          "shell.execute_reply": "2022-04-26T19:41:36.008741Z"
        },
        "colab": {
          "base_uri": "https://localhost:8080/",
          "height": 407
        },
        "id": "ZSqw7vwpakWW",
        "outputId": "5c5926a9-c2ac-4518-d478-fe1ae846272f"
      },
      "outputs": [
        {
          "output_type": "display_data",
          "data": {
            "text/plain": [
              "<Figure size 300x400 with 1 Axes>"
            ],
            "image/png": "[encoded data removed]"
          },
          "metadata": {}
        }
      ],
      "source": [
        "ax = (state['Population']/1_000_000).plot.box(figsize=(3, 4))\n",
        "ax.set_ylabel('Population (millions)')\n",
        "\n",
        "plt.tight_layout()\n",
        "plt.show()"
      ]
    },
    {
      "cell_type": "markdown",
      "metadata": {
        "id": "50eIl956akWW"
      },
      "source": [
        "## Frequency Table and Histograms\n",
        "The `cut` method for _pandas_ data splits the dataset into bins. There are a number of arguments for the method. The following code creates equal sized bins. The method `value_counts` returns a frequency table."
      ]
    },
    {
      "cell_type": "code",
      "execution_count": 21,
      "metadata": {
        "execution": {
          "iopub.execute_input": "2022-04-26T19:41:36.013220Z",
          "iopub.status.busy": "2022-04-26T19:41:36.013014Z",
          "iopub.status.idle": "2022-04-26T19:41:36.024317Z",
          "shell.execute_reply": "2022-04-26T19:41:36.023625Z"
        },
        "colab": {
          "base_uri": "https://localhost:8080/"
        },
        "id": "ZJ9eDP7uakWW",
        "outputId": "615fd3a2-1c4c-4d4a-ccbb-b7ab265026c6"
      },
      "outputs": [
        {
          "output_type": "stream",
          "name": "stdout",
          "text": [
            "Population\n",
            "(526935.67, 4232659.0]      24\n",
            "(4232659.0, 7901692.0]      14\n",
            "(7901692.0, 11570725.0]      6\n",
            "(11570725.0, 15239758.0]     2\n",
            "(15239758.0, 18908791.0]     1\n",
            "(18908791.0, 22577824.0]     1\n",
            "(22577824.0, 26246857.0]     1\n",
            "(33584923.0, 37253956.0]     1\n",
            "(26246857.0, 29915890.0]     0\n",
            "(29915890.0, 33584923.0]     0\n",
            "Name: count, dtype: int64\n"
          ]
        }
      ],
      "source": [
        "binnedPopulation = pd.cut(state['Population'], 10)\n",
        "print(binnedPopulation.value_counts())"
      ]
    },
    {
      "cell_type": "code",
      "execution_count": 22,
      "metadata": {
        "execution": {
          "iopub.execute_input": "2022-04-26T19:41:36.027414Z",
          "iopub.status.busy": "2022-04-26T19:41:36.027172Z",
          "iopub.status.idle": "2022-04-26T19:41:36.043921Z",
          "shell.execute_reply": "2022-04-26T19:41:36.043149Z"
        },
        "colab": {
          "base_uri": "https://localhost:8080/"
        },
        "id": "SDFBruiEakWX",
        "outputId": "9c698b1a-5ac3-4a5a-84cd-82ad743ff675"
      },
      "outputs": [
        {
          "output_type": "stream",
          "name": "stdout",
          "text": [
            "                   BinRange  Count  \\\n",
            "0    (526935.67, 4232659.0]     24   \n",
            "1    (4232659.0, 7901692.0]     14   \n",
            "2   (7901692.0, 11570725.0]      6   \n",
            "3  (11570725.0, 15239758.0]      2   \n",
            "4  (15239758.0, 18908791.0]      1   \n",
            "5  (18908791.0, 22577824.0]      1   \n",
            "6  (22577824.0, 26246857.0]      1   \n",
            "7  (26246857.0, 29915890.0]      0   \n",
            "8  (29915890.0, 33584923.0]      0   \n",
            "9  (33584923.0, 37253956.0]      1   \n",
            "\n",
            "                                              States  \n",
            "0  WY,VT,ND,AK,SD,DE,MT,RI,NH,ME,HI,ID,NE,WV,NM,N...  \n",
            "1          KY,LA,SC,AL,CO,MN,WI,MD,MO,TN,AZ,IN,MA,WA  \n",
            "2                                  VA,NJ,NC,GA,MI,OH  \n",
            "3                                              PA,IL  \n",
            "4                                                 FL  \n",
            "5                                                 NY  \n",
            "6                                                 TX  \n",
            "7                                                     \n",
            "8                                                     \n",
            "9                                                 CA  \n"
          ]
        },
        {
          "output_type": "stream",
          "name": "stderr",
          "text": [
            "<ipython-input-22-f69b1d721bdb>:7: FutureWarning: The default of observed=False is deprecated and will be changed to True in a future version of pandas. Pass observed=False to retain current behavior or observed=True to adopt the future default and silence this warning.\n",
            "  for group, subset in df.groupby(by='binnedPopulation'):\n"
          ]
        }
      ],
      "source": [
        "# Table 1.5\n",
        "binnedPopulation.name = 'binnedPopulation'\n",
        "df = pd.concat([state, binnedPopulation], axis=1)\n",
        "df = df.sort_values(by='Population')\n",
        "\n",
        "groups = []\n",
        "for group, subset in df.groupby(by='binnedPopulation'):\n",
        "    groups.append({\n",
        "        'BinRange': group,\n",
        "        'Count': len(subset),\n",
        "        'States': ','.join(subset.Abbreviation)\n",
        "    })\n",
        "print(pd.DataFrame(groups))"
      ]
    },
    {
      "cell_type": "markdown",
      "metadata": {
        "id": "NTaR07xAakWX"
      },
      "source": [
        "_Pandas_ also supports histograms for exploratory data analysis."
      ]
    }
  ],
  "metadata": {
    "kernelspec": {
      "display_name": "Python 3 (ipykernel)",
      "language": "python",
      "name": "python3"
    },
    "language_info": {
      "codemirror_mode": {
        "name": "ipython",
        "version": 3
      },
      "file_extension": ".py",
      "mimetype": "text/x-python",
      "name": "python",
      "nbconvert_exporter": "python",
      "pygments_lexer": "ipython3",
      "version": "3.9.10"
    },
    "colab": {
      "provenance": []
    }
  },
  "nbformat": 4,
  "nbformat_minor": 0
}